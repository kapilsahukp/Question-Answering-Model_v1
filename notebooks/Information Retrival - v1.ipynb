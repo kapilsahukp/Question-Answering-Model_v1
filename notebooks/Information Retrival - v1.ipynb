{
 "cells": [
  {
   "cell_type": "markdown",
   "id": "bbef6039",
   "metadata": {},
   "source": [
    "# Question-Answering model - Information Retrival"
   ]
  },
  {
   "cell_type": "markdown",
   "id": "226ae9b2",
   "metadata": {},
   "source": [
    "To run this notebook please install gensim>4.0, pandas, tqdm. Create a file storage system similar to the one in my github repo: https://github.com/kapilsahukp/Question-Answering-Model_v1 ."
   ]
  },
  {
   "cell_type": "markdown",
   "id": "e0b6dc7d",
   "metadata": {},
   "source": [
    "### Import Libraries"
   ]
  },
  {
   "cell_type": "code",
   "execution_count": 8,
   "id": "5529437d",
   "metadata": {},
   "outputs": [
    {
     "name": "stdout",
     "output_type": "stream",
     "text": [
      "Collecting gensim\n",
      "  Downloading gensim-4.2.0-cp39-cp39-win_amd64.whl (23.9 MB)\n",
      "     --------------------------------------- 23.9/23.9 MB 11.9 MB/s eta 0:00:00\n",
      "Collecting Cython==0.29.28\n",
      "  Downloading Cython-0.29.28-py2.py3-none-any.whl (983 kB)\n",
      "     ------------------------------------- 983.8/983.8 KB 15.5 MB/s eta 0:00:00\n",
      "Requirement already satisfied: numpy>=1.17.0 in c:\\users\\kapil\\appdata\\local\\programs\\python\\python39\\lib\\site-packages (from gensim) (1.22.4)\n",
      "Collecting smart-open>=1.8.1\n",
      "  Downloading smart_open-6.0.0-py3-none-any.whl (58 kB)\n",
      "     ---------------------------------------- 58.4/58.4 KB 3.0 MB/s eta 0:00:00\n",
      "Requirement already satisfied: scipy>=0.18.1 in c:\\users\\kapil\\appdata\\local\\programs\\python\\python39\\lib\\site-packages (from gensim) (1.8.1)\n",
      "Installing collected packages: smart-open, Cython, gensim\n",
      "Successfully installed Cython-0.29.28 gensim-4.2.0 smart-open-6.0.0\n"
     ]
    },
    {
     "name": "stderr",
     "output_type": "stream",
     "text": [
      "WARNING: Ignoring invalid distribution -pencv-python-headless (c:\\users\\kapil\\appdata\\roaming\\python\\python39\\site-packages)\n",
      "WARNING: Ignoring invalid distribution -pencv-python-headless (c:\\users\\kapil\\appdata\\roaming\\python\\python39\\site-packages)\n",
      "WARNING: Ignoring invalid distribution -pencv-python-headless (c:\\users\\kapil\\appdata\\roaming\\python\\python39\\site-packages)\n",
      "WARNING: Ignoring invalid distribution -pencv-python-headless (c:\\users\\kapil\\appdata\\roaming\\python\\python39\\site-packages)\n",
      "WARNING: Ignoring invalid distribution -pencv-python-headless (c:\\users\\kapil\\appdata\\roaming\\python\\python39\\site-packages)\n",
      "WARNING: Ignoring invalid distribution -pencv-python-headless (c:\\users\\kapil\\appdata\\roaming\\python\\python39\\site-packages)\n",
      "WARNING: You are using pip version 22.0.4; however, version 22.1.2 is available.\n",
      "You should consider upgrading via the 'C:\\Users\\kapil\\AppData\\Local\\Programs\\Python\\Python39\\python.exe -m pip install --upgrade pip' command.\n"
     ]
    }
   ],
   "source": [
    "#!pip install tqdm\n",
    "#!pip install scipy\n",
    "# !pip install nltk\n",
    "# !pip install sklearn\n",
    "# !pip install gensim\n",
    "\n",
    "\n",
    "\n"
   ]
  },
  {
   "cell_type": "code",
   "execution_count": 1,
   "id": "a5f1a307",
   "metadata": {},
   "outputs": [],
   "source": [
    "import os\n",
    "from tqdm import tqdm\n",
    "import pandas as pd\n",
    "import numpy as np\n",
    "import itertools\n",
    "# import swifter\n",
    "from scipy.spatial.distance import cosine\n",
    "from collections import Counter\n",
    "from nltk.tokenize import sent_tokenize\n",
    "from sklearn.metrics.pairwise import cosine_similarity\n",
    "from gensim.utils import simple_preprocess\n",
    "from gensim.models.word2vec import Word2Vec\n",
    "from gensim.models.fasttext import FastText\n",
    "from gensim.models import KeyedVectors\n",
    "from gensim.parsing.preprocessing import remove_stopwords, preprocess_string\n",
    "import gensim.downloader\n",
    "tqdm.pandas()"
   ]
  },
  {
   "cell_type": "markdown",
   "id": "90c28db3",
   "metadata": {},
   "source": [
    "### Load Dataset"
   ]
  },
  {
   "cell_type": "code",
   "execution_count": 2,
   "id": "312579fb",
   "metadata": {},
   "outputs": [
    {
     "data": {
      "text/html": [
       "<div>\n",
       "<style scoped>\n",
       "    .dataframe tbody tr th:only-of-type {\n",
       "        vertical-align: middle;\n",
       "    }\n",
       "\n",
       "    .dataframe tbody tr th {\n",
       "        vertical-align: top;\n",
       "    }\n",
       "\n",
       "    .dataframe thead th {\n",
       "        text-align: right;\n",
       "    }\n",
       "</style>\n",
       "<table border=\"1\" class=\"dataframe\">\n",
       "  <thead>\n",
       "    <tr style=\"text-align: right;\">\n",
       "      <th></th>\n",
       "      <th>id</th>\n",
       "      <th>title</th>\n",
       "      <th>context</th>\n",
       "      <th>question</th>\n",
       "      <th>answer</th>\n",
       "      <th>answer_start</th>\n",
       "      <th>is_impossible</th>\n",
       "    </tr>\n",
       "  </thead>\n",
       "  <tbody>\n",
       "    <tr>\n",
       "      <th>0</th>\n",
       "      <td>56be85543aeaaa14008c9063</td>\n",
       "      <td>Beyoncé</td>\n",
       "      <td>Beyoncé Giselle Knowles-Carter (/biːˈjɒnseɪ/ b...</td>\n",
       "      <td>When did Beyonce start becoming popular?</td>\n",
       "      <td>in the late 1990s</td>\n",
       "      <td>269</td>\n",
       "      <td>False</td>\n",
       "    </tr>\n",
       "    <tr>\n",
       "      <th>1</th>\n",
       "      <td>56be85543aeaaa14008c9065</td>\n",
       "      <td>Beyoncé</td>\n",
       "      <td>Beyoncé Giselle Knowles-Carter (/biːˈjɒnseɪ/ b...</td>\n",
       "      <td>What areas did Beyonce compete in when she was...</td>\n",
       "      <td>singing and dancing</td>\n",
       "      <td>207</td>\n",
       "      <td>False</td>\n",
       "    </tr>\n",
       "    <tr>\n",
       "      <th>2</th>\n",
       "      <td>56be85543aeaaa14008c9066</td>\n",
       "      <td>Beyoncé</td>\n",
       "      <td>Beyoncé Giselle Knowles-Carter (/biːˈjɒnseɪ/ b...</td>\n",
       "      <td>When did Beyonce leave Destiny's Child and bec...</td>\n",
       "      <td>2003</td>\n",
       "      <td>526</td>\n",
       "      <td>False</td>\n",
       "    </tr>\n",
       "    <tr>\n",
       "      <th>3</th>\n",
       "      <td>56bf6b0f3aeaaa14008c9601</td>\n",
       "      <td>Beyoncé</td>\n",
       "      <td>Beyoncé Giselle Knowles-Carter (/biːˈjɒnseɪ/ b...</td>\n",
       "      <td>In what city and state did Beyonce  grow up?</td>\n",
       "      <td>Houston, Texas</td>\n",
       "      <td>166</td>\n",
       "      <td>False</td>\n",
       "    </tr>\n",
       "    <tr>\n",
       "      <th>4</th>\n",
       "      <td>56bf6b0f3aeaaa14008c9602</td>\n",
       "      <td>Beyoncé</td>\n",
       "      <td>Beyoncé Giselle Knowles-Carter (/biːˈjɒnseɪ/ b...</td>\n",
       "      <td>In which decade did Beyonce become famous?</td>\n",
       "      <td>late 1990s</td>\n",
       "      <td>276</td>\n",
       "      <td>False</td>\n",
       "    </tr>\n",
       "  </tbody>\n",
       "</table>\n",
       "</div>"
      ],
      "text/plain": [
       "                         id    title  \\\n",
       "0  56be85543aeaaa14008c9063  Beyoncé   \n",
       "1  56be85543aeaaa14008c9065  Beyoncé   \n",
       "2  56be85543aeaaa14008c9066  Beyoncé   \n",
       "3  56bf6b0f3aeaaa14008c9601  Beyoncé   \n",
       "4  56bf6b0f3aeaaa14008c9602  Beyoncé   \n",
       "\n",
       "                                             context  \\\n",
       "0  Beyoncé Giselle Knowles-Carter (/biːˈjɒnseɪ/ b...   \n",
       "1  Beyoncé Giselle Knowles-Carter (/biːˈjɒnseɪ/ b...   \n",
       "2  Beyoncé Giselle Knowles-Carter (/biːˈjɒnseɪ/ b...   \n",
       "3  Beyoncé Giselle Knowles-Carter (/biːˈjɒnseɪ/ b...   \n",
       "4  Beyoncé Giselle Knowles-Carter (/biːˈjɒnseɪ/ b...   \n",
       "\n",
       "                                            question               answer  \\\n",
       "0           When did Beyonce start becoming popular?    in the late 1990s   \n",
       "1  What areas did Beyonce compete in when she was...  singing and dancing   \n",
       "2  When did Beyonce leave Destiny's Child and bec...                 2003   \n",
       "3      In what city and state did Beyonce  grow up?        Houston, Texas   \n",
       "4         In which decade did Beyonce become famous?           late 1990s   \n",
       "\n",
       "   answer_start  is_impossible  \n",
       "0           269          False  \n",
       "1           207          False  \n",
       "2           526          False  \n",
       "3           166          False  \n",
       "4           276          False  "
      ]
     },
     "execution_count": 2,
     "metadata": {},
     "output_type": "execute_result"
    }
   ],
   "source": [
    "path_dir =  os.path.dirname(os.getcwd())\n",
    "train_df = pd.read_csv(os.path.join(path_dir,r'data\\\\interim\\\\train_data.csv'))\n",
    "val_df = pd.read_csv(os.path.join(path_dir,r'data\\\\interim\\\\val_data.csv'))\n",
    "train_df.drop('Unnamed: 0',axis=1,inplace = True)\n",
    "val_df.drop('Unnamed: 0',axis=1,inplace = True)\n",
    "train_df.head(5)"
   ]
  },
  {
   "cell_type": "code",
   "execution_count": 3,
   "id": "0a1ed163",
   "metadata": {},
   "outputs": [
    {
     "name": "stdout",
     "output_type": "stream",
     "text": [
      "\u001b[94m C : Beyoncé Giselle Knowles-Carter (/biːˈjɒnseɪ/ bee-YON-say) (born September 4, 1981) is an American singer, songwriter, record producer and actress. Born and raised in Houston, Texas, she performed in various singing and dancing competitions as a child, and rose to fame in the late 1990s as lead singer of R&B girl-group Destiny's Child. Managed by her father, Mathew Knowles, the group became one of the world's best-selling girl groups of all time. Their hiatus saw the release of Beyoncé's debut album, Dangerously in Love (2003), which established her as a solo artist worldwide, earned five Grammy Awards and featured the Billboard Hot 100 number-one singles \"Crazy in Love\" and \"Baby Boy\".\n",
      "\u001b[91m Q : When did Beyonce start becoming popular?\n",
      "\u001b[92m A : in the late 1990s\n",
      "\u001b[90m ------------------------------------------------------------------------------------------\n",
      "\u001b[94m C : Beyoncé Giselle Knowles-Carter (/biːˈjɒnseɪ/ bee-YON-say) (born September 4, 1981) is an American singer, songwriter, record producer and actress. Born and raised in Houston, Texas, she performed in various singing and dancing competitions as a child, and rose to fame in the late 1990s as lead singer of R&B girl-group Destiny's Child. Managed by her father, Mathew Knowles, the group became one of the world's best-selling girl groups of all time. Their hiatus saw the release of Beyoncé's debut album, Dangerously in Love (2003), which established her as a solo artist worldwide, earned five Grammy Awards and featured the Billboard Hot 100 number-one singles \"Crazy in Love\" and \"Baby Boy\".\n",
      "\u001b[91m Q : What areas did Beyonce compete in when she was growing up?\n",
      "\u001b[92m A : singing and dancing\n",
      "\u001b[90m ------------------------------------------------------------------------------------------\n",
      "\u001b[94m C : Beyoncé Giselle Knowles-Carter (/biːˈjɒnseɪ/ bee-YON-say) (born September 4, 1981) is an American singer, songwriter, record producer and actress. Born and raised in Houston, Texas, she performed in various singing and dancing competitions as a child, and rose to fame in the late 1990s as lead singer of R&B girl-group Destiny's Child. Managed by her father, Mathew Knowles, the group became one of the world's best-selling girl groups of all time. Their hiatus saw the release of Beyoncé's debut album, Dangerously in Love (2003), which established her as a solo artist worldwide, earned five Grammy Awards and featured the Billboard Hot 100 number-one singles \"Crazy in Love\" and \"Baby Boy\".\n",
      "\u001b[91m Q : When did Beyonce leave Destiny's Child and become a solo singer?\n",
      "\u001b[92m A : 2003\n",
      "\u001b[90m ------------------------------------------------------------------------------------------\n"
     ]
    }
   ],
   "source": [
    "from IPython.display import HTML as html_print\n",
    "\n",
    "def cstr(s, color='black'):\n",
    "    return \"<text style=color:{}>{}</text>\".format(color, s)\n",
    "\n",
    "for i in range(3):\n",
    "    print(f'\\033[94m C : {train_df[\"context\"].tolist()[i]}')\n",
    "    print(f'\\033[91m Q : {train_df[\"question\"].tolist()[i]}')\n",
    "    print(f'\\033[92m A : {train_df[\"answer\"].tolist()[i]}')\n",
    "    print('\\033[90m ' + '-'*90)"
   ]
  },
  {
   "cell_type": "markdown",
   "id": "810a148b",
   "metadata": {},
   "source": [
    "### Get whole answer sentences"
   ]
  },
  {
   "cell_type": "code",
   "execution_count": 4,
   "id": "56401f65",
   "metadata": {},
   "outputs": [],
   "source": [
    "def get_answer_context(df):\n",
    "    length_context = 0\n",
    "    answer = \"\"\n",
    "\n",
    "    for sentence in sent_tokenize(df.context):\n",
    "        length_context += len(sentence) + 1\n",
    "        if df.answer_start <= length_context:\n",
    "            if len(sentence) >= len(str(df.answer)):\n",
    "                if answer == \"\":\n",
    "                    return sentence\n",
    "                else:\n",
    "                    return answer + \" \" + sentence\n",
    "            else:\n",
    "                answer += sentence"
   ]
  },
  {
   "cell_type": "code",
   "execution_count": 5,
   "id": "94a75783",
   "metadata": {},
   "outputs": [
    {
     "name": "stderr",
     "output_type": "stream",
     "text": [
      "100%|██████████| 86820/86820 [00:17<00:00, 4876.40it/s]\n",
      "100%|██████████| 20302/20302 [00:04<00:00, 4839.60it/s]\n"
     ]
    }
   ],
   "source": [
    "train_df['answer_sentences'] = train_df.progress_apply(lambda row: get_answer_context(row),axis = 1)\n",
    "val_df['answer_sentences'] = val_df.progress_apply(lambda row: get_answer_context(row),axis = 1)"
   ]
  },
  {
   "cell_type": "code",
   "execution_count": 6,
   "id": "1e537e30",
   "metadata": {},
   "outputs": [
    {
     "data": {
      "text/html": [
       "<div>\n",
       "<style scoped>\n",
       "    .dataframe tbody tr th:only-of-type {\n",
       "        vertical-align: middle;\n",
       "    }\n",
       "\n",
       "    .dataframe tbody tr th {\n",
       "        vertical-align: top;\n",
       "    }\n",
       "\n",
       "    .dataframe thead th {\n",
       "        text-align: right;\n",
       "    }\n",
       "</style>\n",
       "<table border=\"1\" class=\"dataframe\">\n",
       "  <thead>\n",
       "    <tr style=\"text-align: right;\">\n",
       "      <th></th>\n",
       "      <th>id</th>\n",
       "      <th>title</th>\n",
       "      <th>context</th>\n",
       "      <th>question</th>\n",
       "      <th>answer</th>\n",
       "      <th>answer_start</th>\n",
       "      <th>is_impossible</th>\n",
       "      <th>answer_sentences</th>\n",
       "    </tr>\n",
       "  </thead>\n",
       "  <tbody>\n",
       "    <tr>\n",
       "      <th>0</th>\n",
       "      <td>56be85543aeaaa14008c9063</td>\n",
       "      <td>Beyoncé</td>\n",
       "      <td>Beyoncé Giselle Knowles-Carter (/biːˈjɒnseɪ/ b...</td>\n",
       "      <td>When did Beyonce start becoming popular?</td>\n",
       "      <td>in the late 1990s</td>\n",
       "      <td>269</td>\n",
       "      <td>False</td>\n",
       "      <td>Born and raised in Houston, Texas, she perform...</td>\n",
       "    </tr>\n",
       "    <tr>\n",
       "      <th>1</th>\n",
       "      <td>56be85543aeaaa14008c9065</td>\n",
       "      <td>Beyoncé</td>\n",
       "      <td>Beyoncé Giselle Knowles-Carter (/biːˈjɒnseɪ/ b...</td>\n",
       "      <td>What areas did Beyonce compete in when she was...</td>\n",
       "      <td>singing and dancing</td>\n",
       "      <td>207</td>\n",
       "      <td>False</td>\n",
       "      <td>Born and raised in Houston, Texas, she perform...</td>\n",
       "    </tr>\n",
       "    <tr>\n",
       "      <th>2</th>\n",
       "      <td>56be85543aeaaa14008c9066</td>\n",
       "      <td>Beyoncé</td>\n",
       "      <td>Beyoncé Giselle Knowles-Carter (/biːˈjɒnseɪ/ b...</td>\n",
       "      <td>When did Beyonce leave Destiny's Child and bec...</td>\n",
       "      <td>2003</td>\n",
       "      <td>526</td>\n",
       "      <td>False</td>\n",
       "      <td>Their hiatus saw the release of Beyoncé's debu...</td>\n",
       "    </tr>\n",
       "    <tr>\n",
       "      <th>3</th>\n",
       "      <td>56bf6b0f3aeaaa14008c9601</td>\n",
       "      <td>Beyoncé</td>\n",
       "      <td>Beyoncé Giselle Knowles-Carter (/biːˈjɒnseɪ/ b...</td>\n",
       "      <td>In what city and state did Beyonce  grow up?</td>\n",
       "      <td>Houston, Texas</td>\n",
       "      <td>166</td>\n",
       "      <td>False</td>\n",
       "      <td>Born and raised in Houston, Texas, she perform...</td>\n",
       "    </tr>\n",
       "    <tr>\n",
       "      <th>4</th>\n",
       "      <td>56bf6b0f3aeaaa14008c9602</td>\n",
       "      <td>Beyoncé</td>\n",
       "      <td>Beyoncé Giselle Knowles-Carter (/biːˈjɒnseɪ/ b...</td>\n",
       "      <td>In which decade did Beyonce become famous?</td>\n",
       "      <td>late 1990s</td>\n",
       "      <td>276</td>\n",
       "      <td>False</td>\n",
       "      <td>Born and raised in Houston, Texas, she perform...</td>\n",
       "    </tr>\n",
       "  </tbody>\n",
       "</table>\n",
       "</div>"
      ],
      "text/plain": [
       "                         id    title  \\\n",
       "0  56be85543aeaaa14008c9063  Beyoncé   \n",
       "1  56be85543aeaaa14008c9065  Beyoncé   \n",
       "2  56be85543aeaaa14008c9066  Beyoncé   \n",
       "3  56bf6b0f3aeaaa14008c9601  Beyoncé   \n",
       "4  56bf6b0f3aeaaa14008c9602  Beyoncé   \n",
       "\n",
       "                                             context  \\\n",
       "0  Beyoncé Giselle Knowles-Carter (/biːˈjɒnseɪ/ b...   \n",
       "1  Beyoncé Giselle Knowles-Carter (/biːˈjɒnseɪ/ b...   \n",
       "2  Beyoncé Giselle Knowles-Carter (/biːˈjɒnseɪ/ b...   \n",
       "3  Beyoncé Giselle Knowles-Carter (/biːˈjɒnseɪ/ b...   \n",
       "4  Beyoncé Giselle Knowles-Carter (/biːˈjɒnseɪ/ b...   \n",
       "\n",
       "                                            question               answer  \\\n",
       "0           When did Beyonce start becoming popular?    in the late 1990s   \n",
       "1  What areas did Beyonce compete in when she was...  singing and dancing   \n",
       "2  When did Beyonce leave Destiny's Child and bec...                 2003   \n",
       "3      In what city and state did Beyonce  grow up?        Houston, Texas   \n",
       "4         In which decade did Beyonce become famous?           late 1990s   \n",
       "\n",
       "   answer_start  is_impossible  \\\n",
       "0           269          False   \n",
       "1           207          False   \n",
       "2           526          False   \n",
       "3           166          False   \n",
       "4           276          False   \n",
       "\n",
       "                                    answer_sentences  \n",
       "0  Born and raised in Houston, Texas, she perform...  \n",
       "1  Born and raised in Houston, Texas, she perform...  \n",
       "2  Their hiatus saw the release of Beyoncé's debu...  \n",
       "3  Born and raised in Houston, Texas, she perform...  \n",
       "4  Born and raised in Houston, Texas, she perform...  "
      ]
     },
     "execution_count": 6,
     "metadata": {},
     "output_type": "execute_result"
    }
   ],
   "source": [
    "train_df.head()"
   ]
  },
  {
   "cell_type": "markdown",
   "id": "07e89511",
   "metadata": {},
   "source": [
    "### Preprocess context"
   ]
  },
  {
   "cell_type": "code",
   "execution_count": 7,
   "id": "335ee761",
   "metadata": {},
   "outputs": [
    {
     "name": "stderr",
     "output_type": "stream",
     "text": [
      "100%|██████████| 18877/18877 [00:07<00:00, 2451.50it/s]\n",
      "100%|██████████| 86768/86768 [00:03<00:00, 27102.74it/s]\n"
     ]
    }
   ],
   "source": [
    "context_df = pd.DataFrame(train_df['context'].unique().tolist(),columns=['context'])\n",
    "context_df['processed'] = context_df['context'].progress_apply(lambda x: simple_preprocess(x))\n",
    "\n",
    "question_df = pd.DataFrame(train_df['question'].unique().tolist(),columns=['question'])\n",
    "question_df['processed'] = question_df['question'].progress_apply(lambda x: simple_preprocess(x))\n"
   ]
  },
  {
   "cell_type": "markdown",
   "id": "36b1f63f",
   "metadata": {},
   "source": [
    "### Training a word2vec model"
   ]
  },
  {
   "cell_type": "code",
   "execution_count": 8,
   "id": "c027f27f",
   "metadata": {},
   "outputs": [
    {
     "name": "stderr",
     "output_type": "stream",
     "text": [
      "100%|██████████| 105645/105645 [1:22:46<00:00, 21.27it/s]  \n"
     ]
    }
   ],
   "source": [
    "train_sentences = context_df['processed'].tolist() + question_df['processed'].tolist()\n",
    "train_words = list(itertools.chain(*train_sentences))\n",
    "low_word_count = 1\n",
    "word_count_dict = Counter(train_words)\n",
    "low_freq_words = [k for k, v in word_count_dict.items() if v == low_word_count]\n",
    "UNK = '<UNK>'\n",
    "processed_train_sentences = [[word if word not in low_freq_words else UNK for word in sentence]\n",
    "                            for sentence in tqdm(train_sentences)]\n"
   ]
  },
  {
   "cell_type": "code",
   "execution_count": 9,
   "id": "efa019eb",
   "metadata": {
    "scrolled": true
   },
   "outputs": [],
   "source": [
    "from gensim.models.callbacks import CallbackAny2Vec\n",
    "\n",
    "# init callback class\n",
    "class callback(CallbackAny2Vec):\n",
    "    \"\"\"\n",
    "    Callback to print loss after each epoch\n",
    "    \"\"\"\n",
    "    def __init__(self):\n",
    "        self.epoch = 0\n",
    "\n",
    "    def on_epoch_end(self, model):\n",
    "        loss = model.get_latest_training_loss()\n",
    "        if self.epoch == 0:\n",
    "            print('Loss after epoch {}: {}'.format(self.epoch, loss))\n",
    "        else:\n",
    "            print('Loss after epoch {}: {}'.format(self.epoch, loss- self.loss_previous_step))\n",
    "        self.epoch += 1\n",
    "        self.loss_previous_step = loss"
   ]
  },
  {
   "cell_type": "code",
   "execution_count": 10,
   "id": "3947f6de",
   "metadata": {
    "scrolled": true
   },
   "outputs": [
    {
     "name": "stdout",
     "output_type": "stream",
     "text": [
      "Vocab size 10414\n",
      "Loss after epoch 0: 533307.5\n",
      "Loss after epoch 1: 417033.25\n",
      "Loss after epoch 2: 418462.125\n",
      "Loss after epoch 3: 393721.625\n",
      "Loss after epoch 4: 403788.5\n",
      "Loss after epoch 5: 342991.0\n",
      "Loss after epoch 6: 372567.5\n",
      "Loss after epoch 7: 329419.0\n",
      "Loss after epoch 8: 327155.25\n",
      "Loss after epoch 9: 354881.25\n",
      "Loss after epoch 10: 355103.5\n",
      "Loss after epoch 11: 322187.5\n",
      "Loss after epoch 12: 334823.0\n",
      "Loss after epoch 13: 332382.0\n",
      "Loss after epoch 14: 309330.0\n",
      "Loss after epoch 15: 300277.0\n",
      "Loss after epoch 16: 285930.0\n",
      "Loss after epoch 17: 304231.5\n",
      "Loss after epoch 18: 303569.0\n",
      "Loss after epoch 19: 293080.0\n",
      "Loss after epoch 20: 304979.0\n",
      "Loss after epoch 21: 315790.0\n",
      "Loss after epoch 22: 304274.5\n",
      "Loss after epoch 23: 270321.0\n",
      "Loss after epoch 24: 320940.0\n",
      "Loss after epoch 25: 297017.0\n",
      "Loss after epoch 26: 276776.0\n",
      "Loss after epoch 27: 279544.0\n",
      "Loss after epoch 28: 269837.0\n",
      "Loss after epoch 29: 301193.0\n",
      "Loss after epoch 30: 279987.0\n",
      "Loss after epoch 31: 289734.0\n",
      "Loss after epoch 32: 284184.0\n",
      "Loss after epoch 33: 276715.0\n",
      "Loss after epoch 34: 270851.0\n",
      "Loss after epoch 35: 289299.0\n",
      "Loss after epoch 36: 284126.0\n",
      "Loss after epoch 37: 271204.0\n",
      "Loss after epoch 38: 272075.0\n",
      "Loss after epoch 39: 274098.0\n",
      "Loss after epoch 40: 302168.0\n",
      "Loss after epoch 41: 271992.0\n",
      "Loss after epoch 42: 288128.0\n",
      "Loss after epoch 43: 284098.0\n",
      "Loss after epoch 44: 279270.0\n",
      "Loss after epoch 45: 290962.0\n",
      "Loss after epoch 46: 274516.0\n",
      "Loss after epoch 47: 302415.0\n",
      "Loss after epoch 48: 282853.0\n",
      "Loss after epoch 49: 276550.0\n",
      "Loss after epoch 50: 304870.0\n",
      "Loss after epoch 51: 300499.0\n",
      "Loss after epoch 52: 292710.0\n",
      "Loss after epoch 53: 298874.0\n",
      "Loss after epoch 54: 238840.0\n",
      "Loss after epoch 55: 242212.0\n",
      "Loss after epoch 56: 251290.0\n",
      "Loss after epoch 57: 258724.0\n",
      "Loss after epoch 58: 256724.0\n",
      "Loss after epoch 59: 258482.0\n",
      "Loss after epoch 60: 267504.0\n",
      "Loss after epoch 61: 269948.0\n",
      "Loss after epoch 62: 249648.0\n",
      "Loss after epoch 63: 242366.0\n",
      "Loss after epoch 64: 241368.0\n",
      "Loss after epoch 65: 241770.0\n",
      "Loss after epoch 66: 248428.0\n",
      "Loss after epoch 67: 268530.0\n",
      "Loss after epoch 68: 250682.0\n",
      "Loss after epoch 69: 251400.0\n",
      "Loss after epoch 70: 256198.0\n",
      "Loss after epoch 71: 259182.0\n",
      "Loss after epoch 72: 249754.0\n",
      "Loss after epoch 73: 241772.0\n",
      "Loss after epoch 74: 233492.0\n",
      "Loss after epoch 75: 266158.0\n",
      "Loss after epoch 76: 251332.0\n",
      "Loss after epoch 77: 250748.0\n",
      "Loss after epoch 78: 233736.0\n",
      "Loss after epoch 79: 252246.0\n",
      "Loss after epoch 80: 266952.0\n",
      "Loss after epoch 81: 257144.0\n",
      "Loss after epoch 82: 258622.0\n",
      "Loss after epoch 83: 268352.0\n",
      "Loss after epoch 84: 266110.0\n",
      "Loss after epoch 85: 242704.0\n",
      "Loss after epoch 86: 249474.0\n",
      "Loss after epoch 87: 240782.0\n",
      "Loss after epoch 88: 254956.0\n",
      "Loss after epoch 89: 240168.0\n",
      "Loss after epoch 90: 250582.0\n",
      "Loss after epoch 91: 267788.0\n",
      "Loss after epoch 92: 250604.0\n",
      "Loss after epoch 93: 265870.0\n",
      "Loss after epoch 94: 251486.0\n",
      "Loss after epoch 95: 254214.0\n",
      "Loss after epoch 96: 256970.0\n",
      "Loss after epoch 97: 276892.0\n",
      "Loss after epoch 98: 244096.0\n",
      "Loss after epoch 99: 256712.0\n",
      "Loss after epoch 100: 242748.0\n",
      "Loss after epoch 101: 260302.0\n",
      "Loss after epoch 102: 248866.0\n",
      "Loss after epoch 103: 239770.0\n",
      "Loss after epoch 104: 252528.0\n",
      "Loss after epoch 105: 231532.0\n",
      "Loss after epoch 106: 250438.0\n",
      "Loss after epoch 107: 255862.0\n",
      "Loss after epoch 108: 257426.0\n",
      "Loss after epoch 109: 233604.0\n",
      "Loss after epoch 110: 264208.0\n",
      "Loss after epoch 111: 240450.0\n",
      "Loss after epoch 112: 247294.0\n",
      "Loss after epoch 113: 254436.0\n",
      "Loss after epoch 114: 250140.0\n",
      "Loss after epoch 115: 251122.0\n",
      "Loss after epoch 116: 240806.0\n",
      "Loss after epoch 117: 254100.0\n",
      "Loss after epoch 118: 250024.0\n",
      "Loss after epoch 119: 257974.0\n",
      "Loss after epoch 120: 220520.0\n",
      "Loss after epoch 121: 179488.0\n",
      "Loss after epoch 122: 184688.0\n",
      "Loss after epoch 123: 205156.0\n",
      "Loss after epoch 124: 179516.0\n",
      "Loss after epoch 125: 187388.0\n",
      "Loss after epoch 126: 193028.0\n",
      "Loss after epoch 127: 184092.0\n",
      "Loss after epoch 128: 182756.0\n",
      "Loss after epoch 129: 180568.0\n",
      "Loss after epoch 130: 185884.0\n",
      "Loss after epoch 131: 190200.0\n",
      "Loss after epoch 132: 173252.0\n",
      "Loss after epoch 133: 189660.0\n",
      "Loss after epoch 134: 177000.0\n",
      "Loss after epoch 135: 183972.0\n",
      "Loss after epoch 136: 178156.0\n",
      "Loss after epoch 137: 181968.0\n",
      "Loss after epoch 138: 178924.0\n",
      "Loss after epoch 139: 195496.0\n",
      "Loss after epoch 140: 181680.0\n",
      "Loss after epoch 141: 197476.0\n",
      "Loss after epoch 142: 184516.0\n",
      "Loss after epoch 143: 182452.0\n",
      "Loss after epoch 144: 201660.0\n",
      "Loss after epoch 145: 181912.0\n",
      "Loss after epoch 146: 175352.0\n",
      "Loss after epoch 147: 189636.0\n",
      "Loss after epoch 148: 187540.0\n",
      "Loss after epoch 149: 195480.0\n",
      "Loss after epoch 150: 179592.0\n",
      "Loss after epoch 151: 172792.0\n",
      "Loss after epoch 152: 185496.0\n",
      "Loss after epoch 153: 175808.0\n",
      "Loss after epoch 154: 181108.0\n",
      "Loss after epoch 155: 181800.0\n",
      "Loss after epoch 156: 184644.0\n",
      "Loss after epoch 157: 184504.0\n",
      "Loss after epoch 158: 177648.0\n",
      "Loss after epoch 159: 172084.0\n",
      "Loss after epoch 160: 181472.0\n",
      "Loss after epoch 161: 191244.0\n",
      "Loss after epoch 162: 176984.0\n",
      "Loss after epoch 163: 173088.0\n",
      "Loss after epoch 164: 172472.0\n",
      "Loss after epoch 165: 182976.0\n",
      "Loss after epoch 166: 169696.0\n",
      "Loss after epoch 167: 171948.0\n",
      "Loss after epoch 168: 180644.0\n",
      "Loss after epoch 169: 176568.0\n",
      "Loss after epoch 170: 177516.0\n",
      "Loss after epoch 171: 175408.0\n",
      "Loss after epoch 172: 187376.0\n",
      "Loss after epoch 173: 177172.0\n",
      "Loss after epoch 174: 179992.0\n",
      "Loss after epoch 175: 180332.0\n",
      "Loss after epoch 176: 185788.0\n",
      "Loss after epoch 177: 156672.0\n",
      "Loss after epoch 178: 181284.0\n",
      "Loss after epoch 179: 187796.0\n",
      "Loss after epoch 180: 177564.0\n",
      "Loss after epoch 181: 173072.0\n",
      "Loss after epoch 182: 173744.0\n",
      "Loss after epoch 183: 173836.0\n",
      "Loss after epoch 184: 167416.0\n",
      "Loss after epoch 185: 161756.0\n",
      "Loss after epoch 186: 170140.0\n",
      "Loss after epoch 187: 168840.0\n",
      "Loss after epoch 188: 160644.0\n",
      "Loss after epoch 189: 176768.0\n",
      "Loss after epoch 190: 170560.0\n",
      "Loss after epoch 191: 155508.0\n",
      "Loss after epoch 192: 158540.0\n",
      "Loss after epoch 193: 162708.0\n",
      "Loss after epoch 194: 175504.0\n",
      "Loss after epoch 195: 162352.0\n",
      "Loss after epoch 196: 169980.0\n",
      "Loss after epoch 197: 161892.0\n",
      "Loss after epoch 198: 174356.0\n",
      "Loss after epoch 199: 166608.0\n",
      "Loss after epoch 200: 165660.0\n",
      "Loss after epoch 201: 170044.0\n",
      "Loss after epoch 202: 160960.0\n",
      "Loss after epoch 203: 171080.0\n",
      "Loss after epoch 204: 165896.0\n",
      "Loss after epoch 205: 154028.0\n",
      "Loss after epoch 206: 174964.0\n",
      "Loss after epoch 207: 164300.0\n",
      "Loss after epoch 208: 169600.0\n",
      "Loss after epoch 209: 163856.0\n",
      "Loss after epoch 210: 170620.0\n",
      "Loss after epoch 211: 162388.0\n",
      "Loss after epoch 212: 159752.0\n",
      "Loss after epoch 213: 168576.0\n",
      "Loss after epoch 214: 166128.0\n",
      "Loss after epoch 215: 167064.0\n",
      "Loss after epoch 216: 173244.0\n",
      "Loss after epoch 217: 159728.0\n",
      "Loss after epoch 218: 159916.0\n",
      "Loss after epoch 219: 163728.0\n",
      "Loss after epoch 220: 157348.0\n",
      "Loss after epoch 221: 153552.0\n",
      "Loss after epoch 222: 163824.0\n",
      "Loss after epoch 223: 155024.0\n",
      "Loss after epoch 224: 150960.0\n",
      "Loss after epoch 225: 152540.0\n",
      "Loss after epoch 226: 154988.0\n",
      "Loss after epoch 227: 157360.0\n",
      "Loss after epoch 228: 158444.0\n",
      "Loss after epoch 229: 153344.0\n",
      "Loss after epoch 230: 159772.0\n",
      "Loss after epoch 231: 145944.0\n",
      "Loss after epoch 232: 147608.0\n",
      "Loss after epoch 233: 159532.0\n",
      "Loss after epoch 234: 163076.0\n",
      "Loss after epoch 235: 150992.0\n",
      "Loss after epoch 236: 161644.0\n",
      "Loss after epoch 237: 161080.0\n",
      "Loss after epoch 238: 144944.0\n",
      "Loss after epoch 239: 151708.0\n",
      "Loss after epoch 240: 148404.0\n",
      "Loss after epoch 241: 150972.0\n",
      "Loss after epoch 242: 148604.0\n",
      "Loss after epoch 243: 146104.0\n",
      "Loss after epoch 244: 143412.0\n",
      "Loss after epoch 245: 144652.0\n",
      "Loss after epoch 246: 152792.0\n",
      "Loss after epoch 247: 139024.0\n",
      "Loss after epoch 248: 149900.0\n",
      "Loss after epoch 249: 135272.0\n",
      "Loss after epoch 250: 145912.0\n",
      "Loss after epoch 251: 153040.0\n",
      "Loss after epoch 252: 140284.0\n",
      "Loss after epoch 253: 138444.0\n",
      "Loss after epoch 254: 150484.0\n",
      "Loss after epoch 255: 132784.0\n",
      "Loss after epoch 256: 134700.0\n",
      "Loss after epoch 257: 139796.0\n",
      "Loss after epoch 258: 140584.0\n",
      "Loss after epoch 259: 135492.0\n",
      "Loss after epoch 260: 130492.0\n",
      "Loss after epoch 261: 137448.0\n",
      "Loss after epoch 262: 130848.0\n",
      "Loss after epoch 263: 141308.0\n",
      "Loss after epoch 264: 130316.0\n",
      "Loss after epoch 265: 128720.0\n",
      "Loss after epoch 266: 137016.0\n",
      "Loss after epoch 267: 144332.0\n",
      "Loss after epoch 268: 138476.0\n",
      "Loss after epoch 269: 132404.0\n",
      "Loss after epoch 270: 146424.0\n",
      "Loss after epoch 271: 127004.0\n",
      "Loss after epoch 272: 128660.0\n",
      "Loss after epoch 273: 138124.0\n",
      "Loss after epoch 274: 130368.0\n",
      "Loss after epoch 275: 129552.0\n",
      "Loss after epoch 276: 129456.0\n",
      "Loss after epoch 277: 129520.0\n",
      "Loss after epoch 278: 128936.0\n",
      "Loss after epoch 279: 134844.0\n",
      "Loss after epoch 280: 126276.0\n",
      "Loss after epoch 281: 125804.0\n",
      "Loss after epoch 282: 120684.0\n",
      "Loss after epoch 283: 137540.0\n",
      "Loss after epoch 284: 125340.0\n",
      "Loss after epoch 285: 115432.0\n",
      "Loss after epoch 286: 127332.0\n",
      "Loss after epoch 287: 123372.0\n",
      "Loss after epoch 288: 124612.0\n",
      "Loss after epoch 289: 122556.0\n",
      "Loss after epoch 290: 121220.0\n",
      "Loss after epoch 291: 128388.0\n",
      "Loss after epoch 292: 125784.0\n",
      "Loss after epoch 293: 118184.0\n",
      "Loss after epoch 294: 116052.0\n",
      "Loss after epoch 295: 120992.0\n",
      "Loss after epoch 296: 111684.0\n",
      "Loss after epoch 297: 117484.0\n",
      "Loss after epoch 298: 115100.0\n",
      "Loss after epoch 299: 111588.0\n",
      "Loss after epoch 300: 108644.0\n",
      "Loss after epoch 301: 104340.0\n",
      "Loss after epoch 302: 115444.0\n",
      "Loss after epoch 303: 112484.0\n",
      "Loss after epoch 304: 115096.0\n",
      "Loss after epoch 305: 113228.0\n",
      "Loss after epoch 306: 109356.0\n",
      "Loss after epoch 307: 104604.0\n",
      "Loss after epoch 308: 108988.0\n",
      "Loss after epoch 309: 115892.0\n",
      "Loss after epoch 310: 102484.0\n",
      "Loss after epoch 311: 99420.0\n",
      "Loss after epoch 312: 104412.0\n",
      "Loss after epoch 313: 111860.0\n",
      "Loss after epoch 314: 113088.0\n",
      "Loss after epoch 315: 115912.0\n",
      "Loss after epoch 316: 97320.0\n",
      "Loss after epoch 317: 104108.0\n",
      "Loss after epoch 318: 103676.0\n",
      "Loss after epoch 319: 102048.0\n",
      "Loss after epoch 320: 99720.0\n",
      "Loss after epoch 321: 88920.0\n",
      "Loss after epoch 322: 96164.0\n",
      "Loss after epoch 323: 90096.0\n",
      "Loss after epoch 324: 94604.0\n",
      "Loss after epoch 325: 92860.0\n",
      "Loss after epoch 326: 96920.0\n",
      "Loss after epoch 327: 91020.0\n",
      "Loss after epoch 328: 90828.0\n",
      "Loss after epoch 329: 91084.0\n",
      "Loss after epoch 330: 92576.0\n",
      "Loss after epoch 331: 83336.0\n",
      "Loss after epoch 332: 91440.0\n",
      "Loss after epoch 333: 82984.0\n",
      "Loss after epoch 334: 90732.0\n",
      "Loss after epoch 335: 84412.0\n",
      "Loss after epoch 336: 82708.0\n",
      "Loss after epoch 337: 81888.0\n",
      "Loss after epoch 338: 85088.0\n",
      "Loss after epoch 339: 79296.0\n",
      "Loss after epoch 340: 81196.0\n",
      "Loss after epoch 341: 77260.0\n",
      "Loss after epoch 342: 88352.0\n",
      "Loss after epoch 343: 79240.0\n",
      "Loss after epoch 344: 82116.0\n",
      "Loss after epoch 345: 79652.0\n",
      "Loss after epoch 346: 82452.0\n",
      "Loss after epoch 347: 77660.0\n",
      "Loss after epoch 348: 77280.0\n",
      "Loss after epoch 349: 83184.0\n",
      "66939856.0\n"
     ]
    }
   ],
   "source": [
    "vector_size = 300\n",
    "w2v_model = Word2Vec(min_count=20, \n",
    "                     window = 20,\n",
    "                     vector_size = vector_size,\n",
    "                     workers=10)\n",
    "\n",
    "w2v_model.build_vocab(processed_train_sentences)\n",
    "words = w2v_model.wv.key_to_index.keys()\n",
    "vocab_size = len(words)\n",
    "print(\"Vocab size\", vocab_size)\n",
    "# Train Word Embeddings\n",
    "w2v_model.train(processed_train_sentences, \n",
    "                total_examples=w2v_model.corpus_count, \n",
    "                epochs=350, \n",
    "                report_delay=1,\n",
    "                compute_loss = True, # set compute_loss = True\n",
    "                callbacks=[callback()]) \n",
    "print(w2v_model.get_latest_training_loss())"
   ]
  },
  {
   "cell_type": "code",
   "execution_count": 11,
   "id": "47c9fb16",
   "metadata": {
    "scrolled": true
   },
   "outputs": [
    {
     "data": {
      "text/plain": [
       "[('least', 0.4090263247489929),\n",
       " ('expense', 0.2949385643005371),\n",
       " ('age', 0.27914103865623474),\n",
       " ('level', 0.26621466875076294),\n",
       " ('night', 0.26492178440093994),\n",
       " ('point', 0.24419565498828888),\n",
       " ('end', 0.23826253414154053),\n",
       " ('distances', 0.22997166216373444),\n",
       " ('beginning', 0.21926996111869812),\n",
       " ('rate', 0.21834655106067657)]"
      ]
     },
     "execution_count": 11,
     "metadata": {},
     "output_type": "execute_result"
    }
   ],
   "source": [
    "w2v_model.wv.most_similar(positive=\"time\")"
   ]
  },
  {
   "cell_type": "code",
   "execution_count": 20,
   "id": "d661cb2a",
   "metadata": {},
   "outputs": [
    {
     "data": {
      "text/plain": [
       "True"
      ]
     },
     "execution_count": 20,
     "metadata": {},
     "output_type": "execute_result"
    }
   ],
   "source": [
    "'their' in w2v_model.wv.key_to_index"
   ]
  },
  {
   "cell_type": "code",
   "execution_count": 21,
   "id": "1e731572",
   "metadata": {},
   "outputs": [],
   "source": [
    "def avg_sentence_vector(words, model, num_features):\n",
    "    if isinstance(model,gensim.models.word2vec.Word2Vec):\n",
    "        word_vec_model = model.wv\n",
    "    else:\n",
    "        word_vec_model = model\n",
    "    index2word_set = word_vec_model.index_to_key \n",
    "    #function to average all words vectors in a given paragraph\n",
    "    featureVec = np.zeros((num_features,), dtype=\"float32\")\n",
    "    nwords = 0\n",
    "\n",
    "    for word in words:\n",
    "        if word in index2word_set:\n",
    "            nwords = nwords+1\n",
    "            featureVec = np.add(featureVec, word_vec_model[word])\n",
    "\n",
    "    if nwords>0:\n",
    "        featureVec = np.divide(featureVec, nwords)\n",
    "#     print(featureVec)\n",
    "    return featureVec"
   ]
  },
  {
   "cell_type": "code",
   "execution_count": 378,
   "id": "d4be362c",
   "metadata": {},
   "outputs": [],
   "source": [
    "# avg_sentence_vector(train_df['question'].tolist()[0].split(),w2v_model,100) \n",
    "# avg_sentence_vector(train_df['question'].tolist()[1].split(),w2v_model,100)"
   ]
  },
  {
   "cell_type": "code",
   "execution_count": 22,
   "id": "f9ce5bc2",
   "metadata": {
    "scrolled": true
   },
   "outputs": [],
   "source": [
    "def get_cosine_similarity(context,question,model,vector_size=300):\n",
    "    if isinstance(model,gensim.models.word2vec.Word2Vec):\n",
    "        vocab = model.wv.key_to_index\n",
    "    else:\n",
    "        vocab = model.key_to_index\n",
    "#     print(context,question)\n",
    "    context_sents = sent_tokenize(context)\n",
    "#     print(context_sents)\n",
    "    processed_context = [simple_preprocess(sent) for sent in context_sents]\n",
    "    processed_context = [[word if word in vocab else UNK for word in processed_context_sent]\\\n",
    "                         for processed_context_sent in processed_context]\n",
    "#     print(processed_context)\n",
    "    processed_question = simple_preprocess(question)\n",
    "    processed_question = [word if word in vocab else UNK for word in processed_question]\n",
    "    \n",
    "    context_vectors = [np.array(avg_sentence_vector(processed_context_sent,model,vector_size)).reshape(1,-1) for processed_context_sent in processed_context]\n",
    "    question_vector  = np.array(avg_sentence_vector(processed_question,model,vector_size)).reshape(1,-1)\n",
    "#     print(len(context_vectors[0]))\n",
    "#     print(cosine_similarity(np.array(context_vectors[0]).reshape(1,-1),np.array(question_vector).reshape(1,-1)))\n",
    "    \n",
    "    cosine_sim_list = [cosine_similarity(context_sent_vector,question_vector) for context_sent_vector in context_vectors]\n",
    "    \n",
    "#     print(f\"Cosine scores: {cosine_sim_list}\")\n",
    "    max_cosine_sim = max(cosine_sim_list)\n",
    "    predicted_answer = context_sents[np.argmax(cosine_sim_list)]\n",
    "    return max_cosine_sim, predicted_answer"
   ]
  },
  {
   "cell_type": "code",
   "execution_count": 23,
   "id": "0932bfc9",
   "metadata": {},
   "outputs": [
    {
     "name": "stdout",
     "output_type": "stream",
     "text": [
      "C:Beyoncé Giselle Knowles-Carter (/biːˈjɒnseɪ/ bee-YON-say) (born September 4, 1981) is an American singer, songwriter, record producer and actress. Born and raised in Houston, Texas, she performed in various singing and dancing competitions as a child, and rose to fame in the late 1990s as lead singer of R&B girl-group Destiny's Child. Managed by her father, Mathew Knowles, the group became one of the world's best-selling girl groups of all time. Their hiatus saw the release of Beyoncé's debut album, Dangerously in Love (2003), which established her as a solo artist worldwide, earned five Grammy Awards and featured the Billboard Hot 100 number-one singles \"Crazy in Love\" and \"Baby Boy\".\n",
      "Q: What areas did Beyonce compete in when she was growing up?\n"
     ]
    },
    {
     "data": {
      "text/plain": [
       "(array([[0.22090484]], dtype=float32),\n",
       " \"Born and raised in Houston, Texas, she performed in various singing and dancing competitions as a child, and rose to fame in the late 1990s as lead singer of R&B girl-group Destiny's Child.\")"
      ]
     },
     "execution_count": 23,
     "metadata": {},
     "output_type": "execute_result"
    }
   ],
   "source": [
    "sample_context = train_df['context'].tolist()[0]\n",
    "sample_question = train_df['question'].tolist()[1]\n",
    "print(f\"C:{sample_context}\")\n",
    "print(f\"Q: {sample_question}\")\n",
    "get_cosine_similarity(sample_context,sample_question,w2v_model)"
   ]
  },
  {
   "cell_type": "code",
   "execution_count": 24,
   "id": "dece55d2",
   "metadata": {},
   "outputs": [],
   "source": [
    "temp_df = train_df.head(5)"
   ]
  },
  {
   "cell_type": "code",
   "execution_count": 25,
   "id": "c2fa186e",
   "metadata": {},
   "outputs": [
    {
     "name": "stderr",
     "output_type": "stream",
     "text": [
      "100%|██████████| 5/5 [00:00<00:00, 72.00it/s]\n",
      "C:\\Users\\kapil\\AppData\\Local\\Temp\\ipykernel_30996\\2651588844.py:1: SettingWithCopyWarning: \n",
      "A value is trying to be set on a copy of a slice from a DataFrame.\n",
      "Try using .loc[row_indexer,col_indexer] = value instead\n",
      "\n",
      "See the caveats in the documentation: https://pandas.pydata.org/pandas-docs/stable/user_guide/indexing.html#returning-a-view-versus-a-copy\n",
      "  temp_df[['consine_sim','predicted_answer']] = temp_df[['context','question']]\\\n",
      "C:\\Users\\kapil\\AppData\\Local\\Temp\\ipykernel_30996\\2651588844.py:1: SettingWithCopyWarning: \n",
      "A value is trying to be set on a copy of a slice from a DataFrame.\n",
      "Try using .loc[row_indexer,col_indexer] = value instead\n",
      "\n",
      "See the caveats in the documentation: https://pandas.pydata.org/pandas-docs/stable/user_guide/indexing.html#returning-a-view-versus-a-copy\n",
      "  temp_df[['consine_sim','predicted_answer']] = temp_df[['context','question']]\\\n"
     ]
    },
    {
     "data": {
      "text/html": [
       "<div>\n",
       "<style scoped>\n",
       "    .dataframe tbody tr th:only-of-type {\n",
       "        vertical-align: middle;\n",
       "    }\n",
       "\n",
       "    .dataframe tbody tr th {\n",
       "        vertical-align: top;\n",
       "    }\n",
       "\n",
       "    .dataframe thead th {\n",
       "        text-align: right;\n",
       "    }\n",
       "</style>\n",
       "<table border=\"1\" class=\"dataframe\">\n",
       "  <thead>\n",
       "    <tr style=\"text-align: right;\">\n",
       "      <th></th>\n",
       "      <th>id</th>\n",
       "      <th>title</th>\n",
       "      <th>context</th>\n",
       "      <th>question</th>\n",
       "      <th>answer</th>\n",
       "      <th>answer_start</th>\n",
       "      <th>is_impossible</th>\n",
       "      <th>answer_sentences</th>\n",
       "      <th>consine_sim</th>\n",
       "      <th>predicted_answer</th>\n",
       "    </tr>\n",
       "  </thead>\n",
       "  <tbody>\n",
       "    <tr>\n",
       "      <th>0</th>\n",
       "      <td>56be85543aeaaa14008c9063</td>\n",
       "      <td>Beyoncé</td>\n",
       "      <td>Beyoncé Giselle Knowles-Carter (/biːˈjɒnseɪ/ b...</td>\n",
       "      <td>When did Beyonce start becoming popular?</td>\n",
       "      <td>in the late 1990s</td>\n",
       "      <td>269</td>\n",
       "      <td>False</td>\n",
       "      <td>Born and raised in Houston, Texas, she perform...</td>\n",
       "      <td>[[0.2374527]]</td>\n",
       "      <td>Their hiatus saw the release of Beyoncé's debu...</td>\n",
       "    </tr>\n",
       "    <tr>\n",
       "      <th>1</th>\n",
       "      <td>56be85543aeaaa14008c9065</td>\n",
       "      <td>Beyoncé</td>\n",
       "      <td>Beyoncé Giselle Knowles-Carter (/biːˈjɒnseɪ/ b...</td>\n",
       "      <td>What areas did Beyonce compete in when she was...</td>\n",
       "      <td>singing and dancing</td>\n",
       "      <td>207</td>\n",
       "      <td>False</td>\n",
       "      <td>Born and raised in Houston, Texas, she perform...</td>\n",
       "      <td>[[0.22090484]]</td>\n",
       "      <td>Born and raised in Houston, Texas, she perform...</td>\n",
       "    </tr>\n",
       "    <tr>\n",
       "      <th>2</th>\n",
       "      <td>56be85543aeaaa14008c9066</td>\n",
       "      <td>Beyoncé</td>\n",
       "      <td>Beyoncé Giselle Knowles-Carter (/biːˈjɒnseɪ/ b...</td>\n",
       "      <td>When did Beyonce leave Destiny's Child and bec...</td>\n",
       "      <td>2003</td>\n",
       "      <td>526</td>\n",
       "      <td>False</td>\n",
       "      <td>Their hiatus saw the release of Beyoncé's debu...</td>\n",
       "      <td>[[0.52102005]]</td>\n",
       "      <td>Born and raised in Houston, Texas, she perform...</td>\n",
       "    </tr>\n",
       "    <tr>\n",
       "      <th>3</th>\n",
       "      <td>56bf6b0f3aeaaa14008c9601</td>\n",
       "      <td>Beyoncé</td>\n",
       "      <td>Beyoncé Giselle Knowles-Carter (/biːˈjɒnseɪ/ b...</td>\n",
       "      <td>In what city and state did Beyonce  grow up?</td>\n",
       "      <td>Houston, Texas</td>\n",
       "      <td>166</td>\n",
       "      <td>False</td>\n",
       "      <td>Born and raised in Houston, Texas, she perform...</td>\n",
       "      <td>[[0.16701093]]</td>\n",
       "      <td>Their hiatus saw the release of Beyoncé's debu...</td>\n",
       "    </tr>\n",
       "    <tr>\n",
       "      <th>4</th>\n",
       "      <td>56bf6b0f3aeaaa14008c9602</td>\n",
       "      <td>Beyoncé</td>\n",
       "      <td>Beyoncé Giselle Knowles-Carter (/biːˈjɒnseɪ/ b...</td>\n",
       "      <td>In which decade did Beyonce become famous?</td>\n",
       "      <td>late 1990s</td>\n",
       "      <td>276</td>\n",
       "      <td>False</td>\n",
       "      <td>Born and raised in Houston, Texas, she perform...</td>\n",
       "      <td>[[0.26433152]]</td>\n",
       "      <td>Managed by her father, Mathew Knowles, the gro...</td>\n",
       "    </tr>\n",
       "  </tbody>\n",
       "</table>\n",
       "</div>"
      ],
      "text/plain": [
       "                         id    title  \\\n",
       "0  56be85543aeaaa14008c9063  Beyoncé   \n",
       "1  56be85543aeaaa14008c9065  Beyoncé   \n",
       "2  56be85543aeaaa14008c9066  Beyoncé   \n",
       "3  56bf6b0f3aeaaa14008c9601  Beyoncé   \n",
       "4  56bf6b0f3aeaaa14008c9602  Beyoncé   \n",
       "\n",
       "                                             context  \\\n",
       "0  Beyoncé Giselle Knowles-Carter (/biːˈjɒnseɪ/ b...   \n",
       "1  Beyoncé Giselle Knowles-Carter (/biːˈjɒnseɪ/ b...   \n",
       "2  Beyoncé Giselle Knowles-Carter (/biːˈjɒnseɪ/ b...   \n",
       "3  Beyoncé Giselle Knowles-Carter (/biːˈjɒnseɪ/ b...   \n",
       "4  Beyoncé Giselle Knowles-Carter (/biːˈjɒnseɪ/ b...   \n",
       "\n",
       "                                            question               answer  \\\n",
       "0           When did Beyonce start becoming popular?    in the late 1990s   \n",
       "1  What areas did Beyonce compete in when she was...  singing and dancing   \n",
       "2  When did Beyonce leave Destiny's Child and bec...                 2003   \n",
       "3      In what city and state did Beyonce  grow up?        Houston, Texas   \n",
       "4         In which decade did Beyonce become famous?           late 1990s   \n",
       "\n",
       "   answer_start  is_impossible  \\\n",
       "0           269          False   \n",
       "1           207          False   \n",
       "2           526          False   \n",
       "3           166          False   \n",
       "4           276          False   \n",
       "\n",
       "                                    answer_sentences     consine_sim  \\\n",
       "0  Born and raised in Houston, Texas, she perform...   [[0.2374527]]   \n",
       "1  Born and raised in Houston, Texas, she perform...  [[0.22090484]]   \n",
       "2  Their hiatus saw the release of Beyoncé's debu...  [[0.52102005]]   \n",
       "3  Born and raised in Houston, Texas, she perform...  [[0.16701093]]   \n",
       "4  Born and raised in Houston, Texas, she perform...  [[0.26433152]]   \n",
       "\n",
       "                                    predicted_answer  \n",
       "0  Their hiatus saw the release of Beyoncé's debu...  \n",
       "1  Born and raised in Houston, Texas, she perform...  \n",
       "2  Born and raised in Houston, Texas, she perform...  \n",
       "3  Their hiatus saw the release of Beyoncé's debu...  \n",
       "4  Managed by her father, Mathew Knowles, the gro...  "
      ]
     },
     "execution_count": 25,
     "metadata": {},
     "output_type": "execute_result"
    }
   ],
   "source": [
    "temp_df[['consine_sim','predicted_answer']] = temp_df[['context','question']]\\\n",
    ".progress_apply(lambda x: get_cosine_similarity(x[0],x[1],w2v_model),axis=1,result_type=\"expand\")\n",
    "temp_df"
   ]
  },
  {
   "cell_type": "markdown",
   "id": "ded1081b",
   "metadata": {},
   "source": [
    "### Evaluvate results"
   ]
  },
  {
   "cell_type": "markdown",
   "id": "efd92b12",
   "metadata": {},
   "source": [
    "#### On Train Set"
   ]
  },
  {
   "cell_type": "code",
   "execution_count": 26,
   "id": "57e97742",
   "metadata": {},
   "outputs": [
    {
     "name": "stderr",
     "output_type": "stream",
     "text": [
      "100%|██████████| 86820/86820 [15:07<00:00, 95.66it/s] \n"
     ]
    },
    {
     "data": {
      "text/html": [
       "<div>\n",
       "<style scoped>\n",
       "    .dataframe tbody tr th:only-of-type {\n",
       "        vertical-align: middle;\n",
       "    }\n",
       "\n",
       "    .dataframe tbody tr th {\n",
       "        vertical-align: top;\n",
       "    }\n",
       "\n",
       "    .dataframe thead th {\n",
       "        text-align: right;\n",
       "    }\n",
       "</style>\n",
       "<table border=\"1\" class=\"dataframe\">\n",
       "  <thead>\n",
       "    <tr style=\"text-align: right;\">\n",
       "      <th></th>\n",
       "      <th>id</th>\n",
       "      <th>title</th>\n",
       "      <th>context</th>\n",
       "      <th>question</th>\n",
       "      <th>answer</th>\n",
       "      <th>answer_start</th>\n",
       "      <th>is_impossible</th>\n",
       "      <th>answer_sentences</th>\n",
       "      <th>consine_sim</th>\n",
       "      <th>predicted_answer</th>\n",
       "    </tr>\n",
       "  </thead>\n",
       "  <tbody>\n",
       "    <tr>\n",
       "      <th>0</th>\n",
       "      <td>56be85543aeaaa14008c9063</td>\n",
       "      <td>Beyoncé</td>\n",
       "      <td>Beyoncé Giselle Knowles-Carter (/biːˈjɒnseɪ/ b...</td>\n",
       "      <td>When did Beyonce start becoming popular?</td>\n",
       "      <td>in the late 1990s</td>\n",
       "      <td>269</td>\n",
       "      <td>False</td>\n",
       "      <td>Born and raised in Houston, Texas, she perform...</td>\n",
       "      <td>[[0.2374527]]</td>\n",
       "      <td>Their hiatus saw the release of Beyoncé's debu...</td>\n",
       "    </tr>\n",
       "    <tr>\n",
       "      <th>1</th>\n",
       "      <td>56be85543aeaaa14008c9065</td>\n",
       "      <td>Beyoncé</td>\n",
       "      <td>Beyoncé Giselle Knowles-Carter (/biːˈjɒnseɪ/ b...</td>\n",
       "      <td>What areas did Beyonce compete in when she was...</td>\n",
       "      <td>singing and dancing</td>\n",
       "      <td>207</td>\n",
       "      <td>False</td>\n",
       "      <td>Born and raised in Houston, Texas, she perform...</td>\n",
       "      <td>[[0.22090484]]</td>\n",
       "      <td>Born and raised in Houston, Texas, she perform...</td>\n",
       "    </tr>\n",
       "  </tbody>\n",
       "</table>\n",
       "</div>"
      ],
      "text/plain": [
       "                         id    title  \\\n",
       "0  56be85543aeaaa14008c9063  Beyoncé   \n",
       "1  56be85543aeaaa14008c9065  Beyoncé   \n",
       "\n",
       "                                             context  \\\n",
       "0  Beyoncé Giselle Knowles-Carter (/biːˈjɒnseɪ/ b...   \n",
       "1  Beyoncé Giselle Knowles-Carter (/biːˈjɒnseɪ/ b...   \n",
       "\n",
       "                                            question               answer  \\\n",
       "0           When did Beyonce start becoming popular?    in the late 1990s   \n",
       "1  What areas did Beyonce compete in when she was...  singing and dancing   \n",
       "\n",
       "   answer_start  is_impossible  \\\n",
       "0           269          False   \n",
       "1           207          False   \n",
       "\n",
       "                                    answer_sentences     consine_sim  \\\n",
       "0  Born and raised in Houston, Texas, she perform...   [[0.2374527]]   \n",
       "1  Born and raised in Houston, Texas, she perform...  [[0.22090484]]   \n",
       "\n",
       "                                    predicted_answer  \n",
       "0  Their hiatus saw the release of Beyoncé's debu...  \n",
       "1  Born and raised in Houston, Texas, she perform...  "
      ]
     },
     "execution_count": 26,
     "metadata": {},
     "output_type": "execute_result"
    }
   ],
   "source": [
    "train_df[['consine_sim','predicted_answer']] = train_df[['context','question']]\\\n",
    ".progress_apply(lambda x: get_cosine_similarity(x[0],x[1],w2v_model),axis=1,result_type=\"expand\")\n",
    "train_df.head(2)"
   ]
  },
  {
   "cell_type": "code",
   "execution_count": 27,
   "id": "6959216f",
   "metadata": {},
   "outputs": [
    {
     "data": {
      "text/plain": [
       "True     61828\n",
       "False    24992\n",
       "Name: correct_prediction, dtype: int64"
      ]
     },
     "execution_count": 27,
     "metadata": {},
     "output_type": "execute_result"
    }
   ],
   "source": [
    "train_df['correct_prediction'] = train_df['answer_sentences'] == train_df['predicted_answer']\n",
    "train_df['correct_prediction'].value_counts()"
   ]
  },
  {
   "cell_type": "code",
   "execution_count": 28,
   "id": "6c5668ae",
   "metadata": {},
   "outputs": [
    {
     "name": "stdout",
     "output_type": "stream",
     "text": [
      "accuracy: 0.7121400598940336\n"
     ]
    }
   ],
   "source": [
    "print(f\"accuracy: {train_df[train_df['correct_prediction']].shape[0]/train_df.shape[0]}\")"
   ]
  },
  {
   "cell_type": "markdown",
   "id": "fac35216",
   "metadata": {},
   "source": [
    "#### On Validation set"
   ]
  },
  {
   "cell_type": "code",
   "execution_count": 29,
   "id": "032a1a4e",
   "metadata": {},
   "outputs": [
    {
     "name": "stderr",
     "output_type": "stream",
     "text": [
      "100%|██████████| 20302/20302 [02:38<00:00, 128.10it/s]\n"
     ]
    },
    {
     "data": {
      "text/html": [
       "<div>\n",
       "<style scoped>\n",
       "    .dataframe tbody tr th:only-of-type {\n",
       "        vertical-align: middle;\n",
       "    }\n",
       "\n",
       "    .dataframe tbody tr th {\n",
       "        vertical-align: top;\n",
       "    }\n",
       "\n",
       "    .dataframe thead th {\n",
       "        text-align: right;\n",
       "    }\n",
       "</style>\n",
       "<table border=\"1\" class=\"dataframe\">\n",
       "  <thead>\n",
       "    <tr style=\"text-align: right;\">\n",
       "      <th></th>\n",
       "      <th>id</th>\n",
       "      <th>title</th>\n",
       "      <th>context</th>\n",
       "      <th>question</th>\n",
       "      <th>answer</th>\n",
       "      <th>answer_start</th>\n",
       "      <th>is_impossible</th>\n",
       "      <th>answer_sentences</th>\n",
       "      <th>consine_sim</th>\n",
       "      <th>predicted_answer</th>\n",
       "    </tr>\n",
       "  </thead>\n",
       "  <tbody>\n",
       "    <tr>\n",
       "      <th>0</th>\n",
       "      <td>56ddde6b9a695914005b9628</td>\n",
       "      <td>Normans</td>\n",
       "      <td>The Normans (Norman: Nourmands; French: Norman...</td>\n",
       "      <td>In what country is Normandy located?</td>\n",
       "      <td>France</td>\n",
       "      <td>159</td>\n",
       "      <td>False</td>\n",
       "      <td>The Normans (Norman: Nourmands; French: Norman...</td>\n",
       "      <td>[[0.3155636]]</td>\n",
       "      <td>The Normans (Norman: Nourmands; French: Norman...</td>\n",
       "    </tr>\n",
       "    <tr>\n",
       "      <th>1</th>\n",
       "      <td>56ddde6b9a695914005b9628</td>\n",
       "      <td>Normans</td>\n",
       "      <td>The Normans (Norman: Nourmands; French: Norman...</td>\n",
       "      <td>In what country is Normandy located?</td>\n",
       "      <td>France</td>\n",
       "      <td>159</td>\n",
       "      <td>False</td>\n",
       "      <td>The Normans (Norman: Nourmands; French: Norman...</td>\n",
       "      <td>[[0.3155636]]</td>\n",
       "      <td>The Normans (Norman: Nourmands; French: Norman...</td>\n",
       "    </tr>\n",
       "  </tbody>\n",
       "</table>\n",
       "</div>"
      ],
      "text/plain": [
       "                         id    title  \\\n",
       "0  56ddde6b9a695914005b9628  Normans   \n",
       "1  56ddde6b9a695914005b9628  Normans   \n",
       "\n",
       "                                             context  \\\n",
       "0  The Normans (Norman: Nourmands; French: Norman...   \n",
       "1  The Normans (Norman: Nourmands; French: Norman...   \n",
       "\n",
       "                               question  answer  answer_start  is_impossible  \\\n",
       "0  In what country is Normandy located?  France           159          False   \n",
       "1  In what country is Normandy located?  France           159          False   \n",
       "\n",
       "                                    answer_sentences    consine_sim  \\\n",
       "0  The Normans (Norman: Nourmands; French: Norman...  [[0.3155636]]   \n",
       "1  The Normans (Norman: Nourmands; French: Norman...  [[0.3155636]]   \n",
       "\n",
       "                                    predicted_answer  \n",
       "0  The Normans (Norman: Nourmands; French: Norman...  \n",
       "1  The Normans (Norman: Nourmands; French: Norman...  "
      ]
     },
     "execution_count": 29,
     "metadata": {},
     "output_type": "execute_result"
    }
   ],
   "source": [
    "val_df[['consine_sim','predicted_answer']] = val_df[['context','question']]\\\n",
    ".progress_apply(lambda x: get_cosine_similarity(x[0],x[1],w2v_model),axis=1,result_type=\"expand\")\n",
    "val_df.head(2)"
   ]
  },
  {
   "cell_type": "code",
   "execution_count": 30,
   "id": "c2824fda",
   "metadata": {},
   "outputs": [
    {
     "data": {
      "text/plain": [
       "True     14717\n",
       "False     5585\n",
       "Name: correct_prediction, dtype: int64"
      ]
     },
     "execution_count": 30,
     "metadata": {},
     "output_type": "execute_result"
    }
   ],
   "source": [
    "val_df['correct_prediction'] = val_df['answer_sentences'] == val_df['predicted_answer']\n",
    "val_df['correct_prediction'].value_counts()"
   ]
  },
  {
   "cell_type": "code",
   "execution_count": 31,
   "id": "5903372c",
   "metadata": {},
   "outputs": [
    {
     "name": "stdout",
     "output_type": "stream",
     "text": [
      "accuracy: 0.7249039503497192\n"
     ]
    }
   ],
   "source": [
    "print(f\"accuracy: {val_df[val_df['correct_prediction']].shape[0]/val_df.shape[0]}\")"
   ]
  },
  {
   "cell_type": "markdown",
   "id": "3f219ab9",
   "metadata": {},
   "source": [
    "### Download word2vec model google"
   ]
  },
  {
   "cell_type": "code",
   "execution_count": 32,
   "id": "96913367",
   "metadata": {},
   "outputs": [
    {
     "name": "stdout",
     "output_type": "stream",
     "text": [
      "['fasttext-wiki-news-subwords-300', 'conceptnet-numberbatch-17-06-300', 'word2vec-ruscorpora-300', 'word2vec-google-news-300', 'glove-wiki-gigaword-50', 'glove-wiki-gigaword-100', 'glove-wiki-gigaword-200', 'glove-wiki-gigaword-300', 'glove-twitter-25', 'glove-twitter-50', 'glove-twitter-100', 'glove-twitter-200', '__testing_word2vec-matrix-synopsis']\n"
     ]
    }
   ],
   "source": [
    "print(list(gensim.downloader.info()['models'].keys()))"
   ]
  },
  {
   "cell_type": "code",
   "execution_count": 411,
   "id": "2277c43b",
   "metadata": {
    "scrolled": true
   },
   "outputs": [],
   "source": [
    "google_model = gensim.downloader.load('word2vec-google-news-300')"
   ]
  },
  {
   "cell_type": "code",
   "execution_count": 416,
   "id": "43061135",
   "metadata": {},
   "outputs": [
    {
     "name": "stdout",
     "output_type": "stream",
     "text": [
      "C:Beyoncé Giselle Knowles-Carter (/biːˈjɒnseɪ/ bee-YON-say) (born September 4, 1981) is an American singer, songwriter, record producer and actress. Born and raised in Houston, Texas, she performed in various singing and dancing competitions as a child, and rose to fame in the late 1990s as lead singer of R&B girl-group Destiny's Child. Managed by her father, Mathew Knowles, the group became one of the world's best-selling girl groups of all time. Their hiatus saw the release of Beyoncé's debut album, Dangerously in Love (2003), which established her as a solo artist worldwide, earned five Grammy Awards and featured the Billboard Hot 100 number-one singles \"Crazy in Love\" and \"Baby Boy\".\n",
      "Q: When did Beyonce start becoming popular?\n",
      "[['<UNK>', '<UNK>', '<UNK>', 'carter', '<UNK>', 'bee', 'yon', 'say', 'born', 'september', 'is', 'an', 'american', 'singer', 'songwriter', 'record', 'producer', '<UNK>', 'actress'], ['born', '<UNK>', 'raised', 'in', 'houston', 'texas', 'she', 'performed', 'in', 'various', 'singing', '<UNK>', 'dancing', 'competitions', 'as', 'child', '<UNK>', 'rose', '<UNK>', 'fame', 'in', 'the', 'late', 'as', 'lead', 'singer', '<UNK>', 'girl', 'group', 'destiny', 'child'], ['managed', 'by', 'her', 'father', '<UNK>', '<UNK>', 'the', 'group', 'became', 'one', '<UNK>', 'the', 'world', 'best', 'selling', 'girl', 'groups', '<UNK>', 'all', 'time'], ['their', 'hiatus', 'saw', 'the', 'release', '<UNK>', '<UNK>', 'debut', 'album', 'dangerously', 'in', 'love', 'which', 'established', 'her', 'as', 'solo', 'artist', 'worldwide', 'earned', 'five', 'grammy', 'awards', '<UNK>', 'featured', 'the', 'billboard', 'hot', 'number', 'one', 'singles', 'crazy', 'in', 'love', '<UNK>', 'baby', 'boy']]\n"
     ]
    },
    {
     "data": {
      "text/plain": [
       "(array([[0.6053659]], dtype=float32),\n",
       " \"Managed by her father, Mathew Knowles, the group became one of the world's best-selling girl groups of all time.\")"
      ]
     },
     "execution_count": 416,
     "metadata": {},
     "output_type": "execute_result"
    }
   ],
   "source": [
    "sample_context = train_df['context'].tolist()[0]\n",
    "sample_question = train_df['question'].tolist()[0]\n",
    "print(f\"C:{sample_context}\")\n",
    "print(f\"Q: {sample_question}\")\n",
    "get_cosine_similarity(sample_context,sample_question,google_model)"
   ]
  },
  {
   "cell_type": "code",
   "execution_count": 425,
   "id": "7e4252bf",
   "metadata": {},
   "outputs": [
    {
     "data": {
      "text/plain": [
       "(300,)"
      ]
     },
     "execution_count": 425,
     "metadata": {},
     "output_type": "execute_result"
    }
   ],
   "source": [
    "google_model['world'].shape"
   ]
  },
  {
   "cell_type": "markdown",
   "id": "4b893aea",
   "metadata": {},
   "source": [
    "### Evaluvate results"
   ]
  },
  {
   "cell_type": "code",
   "execution_count": 447,
   "id": "aac9592d",
   "metadata": {},
   "outputs": [],
   "source": [
    "def avg_sentence_vector(words, model, num_features):\n",
    "    if isinstance(model,gensim.models.word2vec.Word2Vec):\n",
    "        word_vec_model = model.wv\n",
    "    else:\n",
    "        word_vec_model = model\n",
    "    index2word_set = word_vec_model.index_to_key \n",
    "    #function to average all words vectors in a given paragraph\n",
    "    featureVec = np.zeros((num_features,), dtype=\"float32\")\n",
    "    nwords = 0\n",
    "\n",
    "    for word in words:\n",
    "        if word in index2word_set:\n",
    "            nwords = nwords+1\n",
    "            featureVec = np.add(featureVec, word_vec_model[word])\n",
    "\n",
    "    if nwords>0:\n",
    "        featureVec = np.divide(featureVec, nwords)\n",
    "#     print(featureVec)\n",
    "    return featureVec\n",
    "def get_context_vector(context,model,vector_size=300):\n",
    "    if isinstance(model,gensim.models.word2vec.Word2Vec):\n",
    "        vocab = model.wv.key_to_index\n",
    "    else:\n",
    "        vocab = model.key_to_index\n",
    "    context_sents = sent_tokenize(context)\n",
    "    processed_context = [simple_preprocess(sent) for sent in context_sents]\n",
    "    processed_context = [[word if word in vocab else UNK for word in processed_context_sent]\\\n",
    "                         for processed_context_sent in processed_context]\n",
    "    context_vectors = [np.array(avg_sentence_vector(processed_context_sent,model,vector_size)).reshape(1,-1) for processed_context_sent in processed_context]\n",
    "    \n",
    "    return context_vectors\n",
    "    \n",
    "def get_cosine_similarity(context,context_vectors,question,model,vector_size=300):\n",
    "    context_sents = sent_tokenize(context)\n",
    "    \n",
    "    if isinstance(model,gensim.models.word2vec.Word2Vec):\n",
    "        vocab = model.wv.key_to_index\n",
    "    else:\n",
    "        vocab = model.key_to_index\n",
    "        \n",
    "    processed_question = simple_preprocess(question)\n",
    "    processed_question = [word if word in vocab else UNK for word in processed_question]\n",
    "    \n",
    "    question_vector  = np.array(avg_sentence_vector(processed_question,model,vector_size)).reshape(1,-1)\n",
    "    \n",
    "    cosine_sim_list = [cosine_similarity(context_sent_vector,question_vector) for context_sent_vector in context_vectors]\n",
    "    \n",
    "    max_cosine_sim = max(cosine_sim_list)\n",
    "    predicted_answer = context_sents[np.argmax(cosine_sim_list)]\n",
    "    return max_cosine_sim, predicted_answer"
   ]
  },
  {
   "cell_type": "code",
   "execution_count": 449,
   "id": "70b6a3a4",
   "metadata": {},
   "outputs": [
    {
     "data": {
      "application/vnd.jupyter.widget-view+json": {
       "model_id": "cb003432baee4ddba30d6c8cf9832d0a",
       "version_major": 2,
       "version_minor": 0
      },
      "text/plain": [
       "Pandas Apply:   0%|          | 0/5 [00:00<?, ?it/s]"
      ]
     },
     "metadata": {},
     "output_type": "display_data"
    },
    {
     "name": "stderr",
     "output_type": "stream",
     "text": [
      "C:\\Users\\prasr\\AppData\\Local\\Temp\\ipykernel_21396\\1690198111.py:1: SettingWithCopyWarning: \n",
      "A value is trying to be set on a copy of a slice from a DataFrame.\n",
      "Try using .loc[row_indexer,col_indexer] = value instead\n",
      "\n",
      "See the caveats in the documentation: https://pandas.pydata.org/pandas-docs/stable/user_guide/indexing.html#returning-a-view-versus-a-copy\n",
      "  temp_df['context_vec'] = temp_df['context'].swifter\\\n"
     ]
    },
    {
     "data": {
      "application/vnd.jupyter.widget-view+json": {
       "model_id": "d5f897be51b643bdbb2f6f6279cd1e58",
       "version_major": 2,
       "version_minor": 0
      },
      "text/plain": [
       "Pandas Apply:   0%|          | 0/5 [00:00<?, ?it/s]"
      ]
     },
     "metadata": {},
     "output_type": "display_data"
    },
    {
     "name": "stderr",
     "output_type": "stream",
     "text": [
      "C:\\Users\\prasr\\AppData\\Local\\Temp\\ipykernel_21396\\1690198111.py:4: SettingWithCopyWarning: \n",
      "A value is trying to be set on a copy of a slice from a DataFrame.\n",
      "Try using .loc[row_indexer,col_indexer] = value instead\n",
      "\n",
      "See the caveats in the documentation: https://pandas.pydata.org/pandas-docs/stable/user_guide/indexing.html#returning-a-view-versus-a-copy\n",
      "  temp_df[['consine_sim','predicted_answer']] = temp_df[['context','context_vec','question']]\\\n"
     ]
    },
    {
     "data": {
      "text/html": [
       "<div>\n",
       "<style scoped>\n",
       "    .dataframe tbody tr th:only-of-type {\n",
       "        vertical-align: middle;\n",
       "    }\n",
       "\n",
       "    .dataframe tbody tr th {\n",
       "        vertical-align: top;\n",
       "    }\n",
       "\n",
       "    .dataframe thead th {\n",
       "        text-align: right;\n",
       "    }\n",
       "</style>\n",
       "<table border=\"1\" class=\"dataframe\">\n",
       "  <thead>\n",
       "    <tr style=\"text-align: right;\">\n",
       "      <th></th>\n",
       "      <th>id</th>\n",
       "      <th>title</th>\n",
       "      <th>context</th>\n",
       "      <th>question</th>\n",
       "      <th>answer</th>\n",
       "      <th>answer_start</th>\n",
       "      <th>is_impossible</th>\n",
       "      <th>answer_sentences</th>\n",
       "      <th>consine_sim</th>\n",
       "      <th>predicted_answer</th>\n",
       "      <th>context_vec</th>\n",
       "    </tr>\n",
       "  </thead>\n",
       "  <tbody>\n",
       "    <tr>\n",
       "      <th>0</th>\n",
       "      <td>56be85543aeaaa14008c9063</td>\n",
       "      <td>Beyoncé</td>\n",
       "      <td>Beyoncé Giselle Knowles-Carter (/biːˈjɒnseɪ/ b...</td>\n",
       "      <td>When did Beyonce start becoming popular?</td>\n",
       "      <td>in the late 1990s</td>\n",
       "      <td>269</td>\n",
       "      <td>False</td>\n",
       "      <td>Born and raised in Houston, Texas, she perform...</td>\n",
       "      <td>[[0.6053659]]</td>\n",
       "      <td>Managed by her father, Mathew Knowles, the gro...</td>\n",
       "      <td>[[[-0.011311122, -0.024881635, -0.053231377, 0...</td>\n",
       "    </tr>\n",
       "    <tr>\n",
       "      <th>1</th>\n",
       "      <td>56be85543aeaaa14008c9065</td>\n",
       "      <td>Beyoncé</td>\n",
       "      <td>Beyoncé Giselle Knowles-Carter (/biːˈjɒnseɪ/ b...</td>\n",
       "      <td>What areas did Beyonce compete in when she was...</td>\n",
       "      <td>singing and dancing</td>\n",
       "      <td>207</td>\n",
       "      <td>False</td>\n",
       "      <td>Born and raised in Houston, Texas, she perform...</td>\n",
       "      <td>[[0.6998993]]</td>\n",
       "      <td>Managed by her father, Mathew Knowles, the gro...</td>\n",
       "      <td>[[[-0.011311122, -0.024881635, -0.053231377, 0...</td>\n",
       "    </tr>\n",
       "  </tbody>\n",
       "</table>\n",
       "</div>"
      ],
      "text/plain": [
       "                         id    title  \\\n",
       "0  56be85543aeaaa14008c9063  Beyoncé   \n",
       "1  56be85543aeaaa14008c9065  Beyoncé   \n",
       "\n",
       "                                             context  \\\n",
       "0  Beyoncé Giselle Knowles-Carter (/biːˈjɒnseɪ/ b...   \n",
       "1  Beyoncé Giselle Knowles-Carter (/biːˈjɒnseɪ/ b...   \n",
       "\n",
       "                                            question               answer  \\\n",
       "0           When did Beyonce start becoming popular?    in the late 1990s   \n",
       "1  What areas did Beyonce compete in when she was...  singing and dancing   \n",
       "\n",
       "   answer_start  is_impossible  \\\n",
       "0           269          False   \n",
       "1           207          False   \n",
       "\n",
       "                                    answer_sentences    consine_sim  \\\n",
       "0  Born and raised in Houston, Texas, she perform...  [[0.6053659]]   \n",
       "1  Born and raised in Houston, Texas, she perform...  [[0.6998993]]   \n",
       "\n",
       "                                    predicted_answer  \\\n",
       "0  Managed by her father, Mathew Knowles, the gro...   \n",
       "1  Managed by her father, Mathew Knowles, the gro...   \n",
       "\n",
       "                                         context_vec  \n",
       "0  [[[-0.011311122, -0.024881635, -0.053231377, 0...  \n",
       "1  [[[-0.011311122, -0.024881635, -0.053231377, 0...  "
      ]
     },
     "execution_count": 449,
     "metadata": {},
     "output_type": "execute_result"
    }
   ],
   "source": [
    "temp_df['context_vec'] = temp_df['context'].swifter\\\n",
    ".progress_bar(enable=True, desc=None).apply(lambda x: get_context_vector(x,google_model))\n",
    "\n",
    "temp_df[['consine_sim','predicted_answer']] = temp_df[['context','context_vec','question']]\\\n",
    ".swifter.progress_bar(enable=True, desc=None)\\\n",
    ".apply(lambda x: get_cosine_similarity(x[0],x[1],x[2],google_model,300),axis=1,result_type=\"expand\")\n",
    "temp_df.head(2)"
   ]
  },
  {
   "cell_type": "code",
   "execution_count": 450,
   "id": "8d6160d5",
   "metadata": {},
   "outputs": [],
   "source": [
    "# temp_df[['consine_sim','predicted_answer']] = temp_df[['context','question']]\\\n",
    "# .swifter.progress_bar(enable=True, desc=None)\\\n",
    "# .apply(lambda x: get_cosine_similarity(x[0],x[1],google_model,300),axis=1,result_type=\"expand\")\n",
    "# temp_df.head(2)"
   ]
  },
  {
   "cell_type": "markdown",
   "id": "62f4d512",
   "metadata": {},
   "source": [
    "#### On val set "
   ]
  },
  {
   "cell_type": "code",
   "execution_count": 457,
   "id": "e038f510",
   "metadata": {},
   "outputs": [
    {
     "data": {
      "application/vnd.jupyter.widget-view+json": {
       "model_id": "8aa61e5eaa7541778cd3c0171e6cefe8",
       "version_major": 2,
       "version_minor": 0
      },
      "text/plain": [
       "Pandas Apply:   0%|          | 0/20302 [00:00<?, ?it/s]"
      ]
     },
     "metadata": {},
     "output_type": "display_data"
    }
   ],
   "source": [
    "val_df['context_vec'] = val_df['context'].swifter\\\n",
    ".progress_bar(enable=True, desc=None).apply(lambda x: get_context_vector(x,google_model))"
   ]
  },
  {
   "cell_type": "code",
   "execution_count": 458,
   "id": "b7e86cf4",
   "metadata": {},
   "outputs": [
    {
     "data": {
      "application/vnd.jupyter.widget-view+json": {
       "model_id": "054f521b48f9466d8479c65257586078",
       "version_major": 2,
       "version_minor": 0
      },
      "text/plain": [
       "Pandas Apply:   0%|          | 0/20302 [00:00<?, ?it/s]"
      ]
     },
     "metadata": {},
     "output_type": "display_data"
    },
    {
     "data": {
      "text/html": [
       "<div>\n",
       "<style scoped>\n",
       "    .dataframe tbody tr th:only-of-type {\n",
       "        vertical-align: middle;\n",
       "    }\n",
       "\n",
       "    .dataframe tbody tr th {\n",
       "        vertical-align: top;\n",
       "    }\n",
       "\n",
       "    .dataframe thead th {\n",
       "        text-align: right;\n",
       "    }\n",
       "</style>\n",
       "<table border=\"1\" class=\"dataframe\">\n",
       "  <thead>\n",
       "    <tr style=\"text-align: right;\">\n",
       "      <th></th>\n",
       "      <th>id</th>\n",
       "      <th>title</th>\n",
       "      <th>context</th>\n",
       "      <th>question</th>\n",
       "      <th>answer</th>\n",
       "      <th>answer_start</th>\n",
       "      <th>is_impossible</th>\n",
       "      <th>answer_sentences</th>\n",
       "      <th>consine_sim</th>\n",
       "      <th>predicted_answer</th>\n",
       "      <th>correct_prediction</th>\n",
       "      <th>context_vec</th>\n",
       "    </tr>\n",
       "  </thead>\n",
       "  <tbody>\n",
       "    <tr>\n",
       "      <th>0</th>\n",
       "      <td>56ddde6b9a695914005b9628</td>\n",
       "      <td>Normans</td>\n",
       "      <td>The Normans (Norman: Nourmands; French: Norman...</td>\n",
       "      <td>In what country is Normandy located?</td>\n",
       "      <td>France</td>\n",
       "      <td>159</td>\n",
       "      <td>False</td>\n",
       "      <td>The Normans (Norman: Nourmands; French: Norman...</td>\n",
       "      <td>[[0.50003517]]</td>\n",
       "      <td>The distinct cultural and ethnic identity of t...</td>\n",
       "      <td>True</td>\n",
       "      <td>[[[0.064170435, 0.075368784, 0.09860872, 0.118...</td>\n",
       "    </tr>\n",
       "    <tr>\n",
       "      <th>1</th>\n",
       "      <td>56ddde6b9a695914005b9628</td>\n",
       "      <td>Normans</td>\n",
       "      <td>The Normans (Norman: Nourmands; French: Norman...</td>\n",
       "      <td>In what country is Normandy located?</td>\n",
       "      <td>France</td>\n",
       "      <td>159</td>\n",
       "      <td>False</td>\n",
       "      <td>The Normans (Norman: Nourmands; French: Norman...</td>\n",
       "      <td>[[0.50003517]]</td>\n",
       "      <td>The distinct cultural and ethnic identity of t...</td>\n",
       "      <td>True</td>\n",
       "      <td>[[[0.064170435, 0.075368784, 0.09860872, 0.118...</td>\n",
       "    </tr>\n",
       "  </tbody>\n",
       "</table>\n",
       "</div>"
      ],
      "text/plain": [
       "                         id    title  \\\n",
       "0  56ddde6b9a695914005b9628  Normans   \n",
       "1  56ddde6b9a695914005b9628  Normans   \n",
       "\n",
       "                                             context  \\\n",
       "0  The Normans (Norman: Nourmands; French: Norman...   \n",
       "1  The Normans (Norman: Nourmands; French: Norman...   \n",
       "\n",
       "                               question  answer  answer_start  is_impossible  \\\n",
       "0  In what country is Normandy located?  France           159          False   \n",
       "1  In what country is Normandy located?  France           159          False   \n",
       "\n",
       "                                    answer_sentences     consine_sim  \\\n",
       "0  The Normans (Norman: Nourmands; French: Norman...  [[0.50003517]]   \n",
       "1  The Normans (Norman: Nourmands; French: Norman...  [[0.50003517]]   \n",
       "\n",
       "                                    predicted_answer  correct_prediction  \\\n",
       "0  The distinct cultural and ethnic identity of t...                True   \n",
       "1  The distinct cultural and ethnic identity of t...                True   \n",
       "\n",
       "                                         context_vec  \n",
       "0  [[[0.064170435, 0.075368784, 0.09860872, 0.118...  \n",
       "1  [[[0.064170435, 0.075368784, 0.09860872, 0.118...  "
      ]
     },
     "execution_count": 458,
     "metadata": {},
     "output_type": "execute_result"
    }
   ],
   "source": [
    "val_df[['consine_sim','predicted_answer']] = val_df[['context','context_vec','question']]\\\n",
    ".swifter.progress_bar(enable=True, desc=None)\\\n",
    ".apply(lambda x: get_cosine_similarity(x[0],x[1],x[2],google_model,300),axis=1,result_type=\"expand\")\n",
    "val_df.head(2)"
   ]
  },
  {
   "cell_type": "code",
   "execution_count": 462,
   "id": "e4f0b77d",
   "metadata": {},
   "outputs": [
    {
     "data": {
      "text/plain": [
       "True     14660\n",
       "False     5642\n",
       "Name: correct_prediction, dtype: int64"
      ]
     },
     "execution_count": 462,
     "metadata": {},
     "output_type": "execute_result"
    }
   ],
   "source": [
    "val_df['correct_prediction'] = val_df['answer_sentences'] == val_df['predicted_answer']\n",
    "val_df['correct_prediction'].value_counts()"
   ]
  },
  {
   "cell_type": "code",
   "execution_count": 465,
   "id": "dde95c8c",
   "metadata": {},
   "outputs": [
    {
     "name": "stdout",
     "output_type": "stream",
     "text": [
      "accuracy: 0.7220963451876662\n"
     ]
    }
   ],
   "source": [
    "print(f\"accuracy: {val_df[val_df['correct_prediction']].shape[0]/val_df.shape[0]}\")"
   ]
  },
  {
   "cell_type": "markdown",
   "id": "b5c12acf",
   "metadata": {},
   "source": [
    "### Training a fasttext model"
   ]
  },
  {
   "cell_type": "code",
   "execution_count": 30,
   "id": "a817287c",
   "metadata": {},
   "outputs": [
    {
     "name": "stdout",
     "output_type": "stream",
     "text": [
      "Vocab size 78414\n",
      "0.0\n"
     ]
    }
   ],
   "source": [
    "vector_size = 400\n",
    "fast_text_model = FastText(min_count=1, \n",
    "                     window = 5,\n",
    "                     vector_size = vector_size,\n",
    "                     sg = 1,\n",
    "                     hs = 1,\n",
    "                     workers=10)\n",
    "fast_text_model.build_vocab(train_sentences)\n",
    "words = fast_text_model.wv.key_to_index.keys()\n",
    "vocab_size = len(words)\n",
    "print(\"Vocab size\", vocab_size)\n",
    "# Train Word Embeddings\n",
    "fast_text_model.train(train_sentences, \n",
    "                total_examples=fast_text_model.corpus_count, \n",
    "                epochs=500, \n",
    "                report_delay=1,\n",
    "                compute_loss = True,) # set compute_loss = True\n",
    "#                 callbacks=[callback()]) \n",
    "print(fast_text_model.get_latest_training_loss())"
   ]
  },
  {
   "cell_type": "code",
   "execution_count": 31,
   "id": "eb67a5d9",
   "metadata": {},
   "outputs": [
    {
     "data": {
      "text/plain": [
       "[('period', 0.46009957790374756),\n",
       " ('gamedaily', 0.3613353967666626),\n",
       " ('during', 0.34807538986206055),\n",
       " ('beatle', 0.3249432444572449),\n",
       " ('same', 0.3225545287132263),\n",
       " ('periods', 0.32006415724754333),\n",
       " ('johnathon', 0.319020539522171),\n",
       " ('span', 0.31888797879219055),\n",
       " ('ascession', 0.31213393807411194),\n",
       " ('accension', 0.30582237243652344)]"
      ]
     },
     "execution_count": 31,
     "metadata": {},
     "output_type": "execute_result"
    }
   ],
   "source": [
    "fast_text_model.wv.most_similar(positive=\"time\")"
   ]
  },
  {
   "cell_type": "code",
   "execution_count": 32,
   "id": "c3b29480",
   "metadata": {},
   "outputs": [
    {
     "name": "stdout",
     "output_type": "stream",
     "text": [
      "0.4006621\n"
     ]
    }
   ],
   "source": [
    "print(fast_text_model.wv.n_similarity(['sushi', 'shop'], ['japanese', 'restaurant']))"
   ]
  },
  {
   "cell_type": "code",
   "execution_count": 33,
   "id": "cfc1dd9f",
   "metadata": {},
   "outputs": [],
   "source": [
    "def get_cosine_similarity(context,question,model,vector_size=300):\n",
    "    if isinstance(model,gensim.models.word2vec.Word2Vec):\n",
    "        vocab = model.wv.key_to_index\n",
    "    else:\n",
    "        vocab = model.key_to_index\n",
    "    context_sents = sent_tokenize(context)\n",
    "    \n",
    "    processed_context = [simple_preprocess(sent) for sent in context_sents]\n",
    "#     processed_context = [[word if word in vocab else UNK for word in processed_context_sent]\\\n",
    "#                          for processed_context_sent in processed_context]\n",
    "    processed_question = simple_preprocess(question)\n",
    "#     print(processed_context)\n",
    "#     processed_question = [word if word in vocab else UNK for word in processed_question]\n",
    "    \n",
    "#     context_vectors = [np.array(avg_sentence_vector(processed_context_sent,model,vector_size)).reshape(1,-1) for processed_context_sent in processed_context]\n",
    "#     question_vector  = np.array(avg_sentence_vector(processed_question,model,vector_size)).reshape(1,-1)\n",
    "#     print(len(context_vectors[0]))\n",
    "#     print(cosine_similarity(np.array(context_vectors[0]).reshape(1,-1),np.array(question_vector).reshape(1,-1)))\n",
    "    \n",
    "#     cosine_sim_list = [cosine_similarity(context_sent_vector,question_vector) for context_sent_vector in context_vectors]\n",
    "        #     print(f\"Cosine scores: {cosine_sim_list}\")\n",
    "    cosine_sim_list = [model.wv.n_similarity(context_sent,processed_question) for context_sent in processed_context if len(context_sent) > 0]\n",
    "#     print(cosine_sim_list)\n",
    "    max_cosine_sim = max(cosine_sim_list)\n",
    "    predicted_answer = context_sents[np.argmax(cosine_sim_list)]\n",
    "    return max_cosine_sim, predicted_answer"
   ]
  },
  {
   "cell_type": "code",
   "execution_count": 34,
   "id": "a41af1ac",
   "metadata": {},
   "outputs": [
    {
     "name": "stdout",
     "output_type": "stream",
     "text": [
      "C:Beyoncé Giselle Knowles-Carter (/biːˈjɒnseɪ/ bee-YON-say) (born September 4, 1981) is an American singer, songwriter, record producer and actress. Born and raised in Houston, Texas, she performed in various singing and dancing competitions as a child, and rose to fame in the late 1990s as lead singer of R&B girl-group Destiny's Child. Managed by her father, Mathew Knowles, the group became one of the world's best-selling girl groups of all time. Their hiatus saw the release of Beyoncé's debut album, Dangerously in Love (2003), which established her as a solo artist worldwide, earned five Grammy Awards and featured the Billboard Hot 100 number-one singles \"Crazy in Love\" and \"Baby Boy\".\n",
      "Q: What areas did Beyonce compete in when she was growing up?\n"
     ]
    },
    {
     "data": {
      "text/plain": [
       "(0.5806109,\n",
       " \"Born and raised in Houston, Texas, she performed in various singing and dancing competitions as a child, and rose to fame in the late 1990s as lead singer of R&B girl-group Destiny's Child.\")"
      ]
     },
     "execution_count": 34,
     "metadata": {},
     "output_type": "execute_result"
    }
   ],
   "source": [
    "sample_context = train_df['context'].tolist()[0]\n",
    "sample_question = train_df['question'].tolist()[1]\n",
    "print(f\"C:{sample_context}\")\n",
    "print(f\"Q: {sample_question}\")\n",
    "get_cosine_similarity(sample_context,sample_question,fast_text_model)"
   ]
  },
  {
   "cell_type": "code",
   "execution_count": 35,
   "id": "f2359fa2",
   "metadata": {},
   "outputs": [
    {
     "name": "stderr",
     "output_type": "stream",
     "text": [
      "100%|███████████████████████████| 86820/86820 [01:01<00:00, 1422.03it/s]\n"
     ]
    },
    {
     "data": {
      "text/html": [
       "<div>\n",
       "<style scoped>\n",
       "    .dataframe tbody tr th:only-of-type {\n",
       "        vertical-align: middle;\n",
       "    }\n",
       "\n",
       "    .dataframe tbody tr th {\n",
       "        vertical-align: top;\n",
       "    }\n",
       "\n",
       "    .dataframe thead th {\n",
       "        text-align: right;\n",
       "    }\n",
       "</style>\n",
       "<table border=\"1\" class=\"dataframe\">\n",
       "  <thead>\n",
       "    <tr style=\"text-align: right;\">\n",
       "      <th></th>\n",
       "      <th>id</th>\n",
       "      <th>title</th>\n",
       "      <th>context</th>\n",
       "      <th>question</th>\n",
       "      <th>answer</th>\n",
       "      <th>answer_start</th>\n",
       "      <th>is_impossible</th>\n",
       "      <th>answer_sentences</th>\n",
       "      <th>consine_sim</th>\n",
       "      <th>predicted_answer</th>\n",
       "      <th>correct_prediction</th>\n",
       "    </tr>\n",
       "  </thead>\n",
       "  <tbody>\n",
       "    <tr>\n",
       "      <th>0</th>\n",
       "      <td>56be85543aeaaa14008c9063</td>\n",
       "      <td>Beyoncé</td>\n",
       "      <td>Beyoncé Giselle Knowles-Carter (/biːˈjɒnseɪ/ b...</td>\n",
       "      <td>When did Beyonce start becoming popular?</td>\n",
       "      <td>in the late 1990s</td>\n",
       "      <td>269</td>\n",
       "      <td>False</td>\n",
       "      <td>Born and raised in Houston, Texas, she perform...</td>\n",
       "      <td>0.508958</td>\n",
       "      <td>Born and raised in Houston, Texas, she perform...</td>\n",
       "      <td>True</td>\n",
       "    </tr>\n",
       "    <tr>\n",
       "      <th>1</th>\n",
       "      <td>56be85543aeaaa14008c9065</td>\n",
       "      <td>Beyoncé</td>\n",
       "      <td>Beyoncé Giselle Knowles-Carter (/biːˈjɒnseɪ/ b...</td>\n",
       "      <td>What areas did Beyonce compete in when she was...</td>\n",
       "      <td>singing and dancing</td>\n",
       "      <td>207</td>\n",
       "      <td>False</td>\n",
       "      <td>Born and raised in Houston, Texas, she perform...</td>\n",
       "      <td>0.580611</td>\n",
       "      <td>Born and raised in Houston, Texas, she perform...</td>\n",
       "      <td>True</td>\n",
       "    </tr>\n",
       "  </tbody>\n",
       "</table>\n",
       "</div>"
      ],
      "text/plain": [
       "                         id    title  \\\n",
       "0  56be85543aeaaa14008c9063  Beyoncé   \n",
       "1  56be85543aeaaa14008c9065  Beyoncé   \n",
       "\n",
       "                                             context  \\\n",
       "0  Beyoncé Giselle Knowles-Carter (/biːˈjɒnseɪ/ b...   \n",
       "1  Beyoncé Giselle Knowles-Carter (/biːˈjɒnseɪ/ b...   \n",
       "\n",
       "                                            question               answer  \\\n",
       "0           When did Beyonce start becoming popular?    in the late 1990s   \n",
       "1  What areas did Beyonce compete in when she was...  singing and dancing   \n",
       "\n",
       "   answer_start  is_impossible  \\\n",
       "0           269          False   \n",
       "1           207          False   \n",
       "\n",
       "                                    answer_sentences  consine_sim  \\\n",
       "0  Born and raised in Houston, Texas, she perform...     0.508958   \n",
       "1  Born and raised in Houston, Texas, she perform...     0.580611   \n",
       "\n",
       "                                    predicted_answer  correct_prediction  \n",
       "0  Born and raised in Houston, Texas, she perform...                True  \n",
       "1  Born and raised in Houston, Texas, she perform...                True  "
      ]
     },
     "execution_count": 35,
     "metadata": {},
     "output_type": "execute_result"
    }
   ],
   "source": [
    "train_df[['consine_sim','predicted_answer']] = train_df[['context','question']]\\\n",
    ".progress_apply(lambda x: get_cosine_similarity(x[0],x[1],fast_text_model,100),axis=1,result_type=\"expand\")\n",
    "train_df.head(2)"
   ]
  },
  {
   "cell_type": "code",
   "execution_count": 36,
   "id": "c6804005",
   "metadata": {},
   "outputs": [
    {
     "data": {
      "text/plain": [
       "True     61594\n",
       "False    25226\n",
       "Name: correct_prediction, dtype: int64"
      ]
     },
     "execution_count": 36,
     "metadata": {},
     "output_type": "execute_result"
    }
   ],
   "source": [
    "train_df['correct_prediction'] = train_df['answer_sentences'] == train_df['predicted_answer']\n",
    "train_df['correct_prediction'].value_counts()"
   ]
  },
  {
   "cell_type": "code",
   "execution_count": 37,
   "id": "a83be784",
   "metadata": {},
   "outputs": [
    {
     "name": "stdout",
     "output_type": "stream",
     "text": [
      "accuracy: 0.7094448283805574\n"
     ]
    }
   ],
   "source": [
    "print(f\"accuracy: {train_df[train_df['correct_prediction']].shape[0]/train_df.shape[0]}\")"
   ]
  },
  {
   "cell_type": "code",
   "execution_count": 38,
   "id": "74aedd80",
   "metadata": {},
   "outputs": [
    {
     "name": "stderr",
     "output_type": "stream",
     "text": [
      "100%|████████████████████████████| 20302/20302 [00:22<00:00, 919.60it/s]\n"
     ]
    },
    {
     "data": {
      "text/html": [
       "<div>\n",
       "<style scoped>\n",
       "    .dataframe tbody tr th:only-of-type {\n",
       "        vertical-align: middle;\n",
       "    }\n",
       "\n",
       "    .dataframe tbody tr th {\n",
       "        vertical-align: top;\n",
       "    }\n",
       "\n",
       "    .dataframe thead th {\n",
       "        text-align: right;\n",
       "    }\n",
       "</style>\n",
       "<table border=\"1\" class=\"dataframe\">\n",
       "  <thead>\n",
       "    <tr style=\"text-align: right;\">\n",
       "      <th></th>\n",
       "      <th>id</th>\n",
       "      <th>title</th>\n",
       "      <th>context</th>\n",
       "      <th>question</th>\n",
       "      <th>answer</th>\n",
       "      <th>answer_start</th>\n",
       "      <th>is_impossible</th>\n",
       "      <th>answer_sentences</th>\n",
       "      <th>consine_sim</th>\n",
       "      <th>predicted_answer</th>\n",
       "      <th>correct_prediction</th>\n",
       "    </tr>\n",
       "  </thead>\n",
       "  <tbody>\n",
       "    <tr>\n",
       "      <th>0</th>\n",
       "      <td>56ddde6b9a695914005b9628</td>\n",
       "      <td>Normans</td>\n",
       "      <td>The Normans (Norman: Nourmands; French: Norman...</td>\n",
       "      <td>In what country is Normandy located?</td>\n",
       "      <td>France</td>\n",
       "      <td>159</td>\n",
       "      <td>False</td>\n",
       "      <td>The Normans (Norman: Nourmands; French: Norman...</td>\n",
       "      <td>0.621735</td>\n",
       "      <td>The Normans (Norman: Nourmands; French: Norman...</td>\n",
       "      <td>True</td>\n",
       "    </tr>\n",
       "    <tr>\n",
       "      <th>1</th>\n",
       "      <td>56ddde6b9a695914005b9628</td>\n",
       "      <td>Normans</td>\n",
       "      <td>The Normans (Norman: Nourmands; French: Norman...</td>\n",
       "      <td>In what country is Normandy located?</td>\n",
       "      <td>France</td>\n",
       "      <td>159</td>\n",
       "      <td>False</td>\n",
       "      <td>The Normans (Norman: Nourmands; French: Norman...</td>\n",
       "      <td>0.621735</td>\n",
       "      <td>The Normans (Norman: Nourmands; French: Norman...</td>\n",
       "      <td>True</td>\n",
       "    </tr>\n",
       "  </tbody>\n",
       "</table>\n",
       "</div>"
      ],
      "text/plain": [
       "                         id    title  \\\n",
       "0  56ddde6b9a695914005b9628  Normans   \n",
       "1  56ddde6b9a695914005b9628  Normans   \n",
       "\n",
       "                                             context  \\\n",
       "0  The Normans (Norman: Nourmands; French: Norman...   \n",
       "1  The Normans (Norman: Nourmands; French: Norman...   \n",
       "\n",
       "                               question  answer  answer_start  is_impossible  \\\n",
       "0  In what country is Normandy located?  France           159          False   \n",
       "1  In what country is Normandy located?  France           159          False   \n",
       "\n",
       "                                    answer_sentences  consine_sim  \\\n",
       "0  The Normans (Norman: Nourmands; French: Norman...     0.621735   \n",
       "1  The Normans (Norman: Nourmands; French: Norman...     0.621735   \n",
       "\n",
       "                                    predicted_answer  correct_prediction  \n",
       "0  The Normans (Norman: Nourmands; French: Norman...                True  \n",
       "1  The Normans (Norman: Nourmands; French: Norman...                True  "
      ]
     },
     "execution_count": 38,
     "metadata": {},
     "output_type": "execute_result"
    }
   ],
   "source": [
    "val_df[['consine_sim','predicted_answer']] = val_df[['context','question']]\\\n",
    ".progress_apply(lambda x: get_cosine_similarity(x[0],x[1],fast_text_model),axis=1,result_type=\"expand\")\n",
    "val_df.head(2)"
   ]
  },
  {
   "cell_type": "code",
   "execution_count": 39,
   "id": "2a02f22b",
   "metadata": {},
   "outputs": [
    {
     "data": {
      "text/plain": [
       "True     14381\n",
       "False     5921\n",
       "Name: correct_prediction, dtype: int64"
      ]
     },
     "execution_count": 39,
     "metadata": {},
     "output_type": "execute_result"
    }
   ],
   "source": [
    "val_df['correct_prediction'] = val_df['answer_sentences'] == val_df['predicted_answer']\n",
    "val_df['correct_prediction'].value_counts()"
   ]
  },
  {
   "cell_type": "code",
   "execution_count": 40,
   "id": "ba0bb972",
   "metadata": {},
   "outputs": [
    {
     "name": "stdout",
     "output_type": "stream",
     "text": [
      "accuracy: 0.7083538567628805\n"
     ]
    }
   ],
   "source": [
    "print(f\"accuracy: {val_df[val_df['correct_prediction']].shape[0]/val_df.shape[0]}\")"
   ]
  },
  {
   "cell_type": "markdown",
   "id": "1a702053",
   "metadata": {},
   "source": [
    "#### Download and use GloVe"
   ]
  },
  {
   "cell_type": "code",
   "execution_count": 42,
   "id": "42e7ae1c",
   "metadata": {},
   "outputs": [
    {
     "name": "stdout",
     "output_type": "stream",
     "text": [
      "['fasttext-wiki-news-subwords-300', 'conceptnet-numberbatch-17-06-300', 'word2vec-ruscorpora-300', 'word2vec-google-news-300', 'glove-wiki-gigaword-50', 'glove-wiki-gigaword-100', 'glove-wiki-gigaword-200', 'glove-wiki-gigaword-300', 'glove-twitter-25', 'glove-twitter-50', 'glove-twitter-100', 'glove-twitter-200', '__testing_word2vec-matrix-synopsis']\n"
     ]
    }
   ],
   "source": [
    "print(list(gensim.downloader.info()['models'].keys()))"
   ]
  },
  {
   "cell_type": "code",
   "execution_count": 43,
   "id": "1f70c22d",
   "metadata": {
    "scrolled": true
   },
   "outputs": [
    {
     "name": "stdout",
     "output_type": "stream",
     "text": [
      "[=======-------------------------------------------] 15.6% 58.6/376.1MB downloaded"
     ]
    },
    {
     "name": "stderr",
     "output_type": "stream",
     "text": [
      "IOPub message rate exceeded.\n",
      "The notebook server will temporarily stop sending output\n",
      "to the client in order to avoid crashing it.\n",
      "To change this limit, set the config variable\n",
      "`--NotebookApp.iopub_msg_rate_limit`.\n",
      "\n",
      "Current values:\n",
      "NotebookApp.iopub_msg_rate_limit=1000.0 (msgs/sec)\n",
      "NotebookApp.rate_limit_window=3.0 (secs)\n",
      "\n"
     ]
    },
    {
     "name": "stdout",
     "output_type": "stream",
     "text": [
      "[==============------------------------------------] 28.9% 108.5/376.1MB downloaded"
     ]
    },
    {
     "name": "stderr",
     "output_type": "stream",
     "text": [
      "IOPub message rate exceeded.\n",
      "The notebook server will temporarily stop sending output\n",
      "to the client in order to avoid crashing it.\n",
      "To change this limit, set the config variable\n",
      "`--NotebookApp.iopub_msg_rate_limit`.\n",
      "\n",
      "Current values:\n",
      "NotebookApp.iopub_msg_rate_limit=1000.0 (msgs/sec)\n",
      "NotebookApp.rate_limit_window=3.0 (secs)\n",
      "\n"
     ]
    },
    {
     "name": "stdout",
     "output_type": "stream",
     "text": [
      "[==================--------------------------------] 36.6% 137.6/376.1MB downloaded"
     ]
    },
    {
     "name": "stderr",
     "output_type": "stream",
     "text": [
      "IOPub message rate exceeded.\n",
      "The notebook server will temporarily stop sending output\n",
      "to the client in order to avoid crashing it.\n",
      "To change this limit, set the config variable\n",
      "`--NotebookApp.iopub_msg_rate_limit`.\n",
      "\n",
      "Current values:\n",
      "NotebookApp.iopub_msg_rate_limit=1000.0 (msgs/sec)\n",
      "NotebookApp.rate_limit_window=3.0 (secs)\n",
      "\n"
     ]
    },
    {
     "name": "stdout",
     "output_type": "stream",
     "text": [
      "[=========================-------------------------] 50.8% 190.9/376.1MB downloaded"
     ]
    },
    {
     "name": "stderr",
     "output_type": "stream",
     "text": [
      "IOPub message rate exceeded.\n",
      "The notebook server will temporarily stop sending output\n",
      "to the client in order to avoid crashing it.\n",
      "To change this limit, set the config variable\n",
      "`--NotebookApp.iopub_msg_rate_limit`.\n",
      "\n",
      "Current values:\n",
      "NotebookApp.iopub_msg_rate_limit=1000.0 (msgs/sec)\n",
      "NotebookApp.rate_limit_window=3.0 (secs)\n",
      "\n"
     ]
    },
    {
     "name": "stdout",
     "output_type": "stream",
     "text": [
      "[=======================================-----------] 79.2% 297.8/376.1MB downloaded"
     ]
    },
    {
     "name": "stderr",
     "output_type": "stream",
     "text": [
      "IOPub message rate exceeded.\n",
      "The notebook server will temporarily stop sending output\n",
      "to the client in order to avoid crashing it.\n",
      "To change this limit, set the config variable\n",
      "`--NotebookApp.iopub_msg_rate_limit`.\n",
      "\n",
      "Current values:\n",
      "NotebookApp.iopub_msg_rate_limit=1000.0 (msgs/sec)\n",
      "NotebookApp.rate_limit_window=3.0 (secs)\n",
      "\n"
     ]
    },
    {
     "name": "stdout",
     "output_type": "stream",
     "text": [
      "[============================================------] 88.7% 333.6/376.1MB downloaded"
     ]
    },
    {
     "name": "stderr",
     "output_type": "stream",
     "text": [
      "IOPub message rate exceeded.\n",
      "The notebook server will temporarily stop sending output\n",
      "to the client in order to avoid crashing it.\n",
      "To change this limit, set the config variable\n",
      "`--NotebookApp.iopub_msg_rate_limit`.\n",
      "\n",
      "Current values:\n",
      "NotebookApp.iopub_msg_rate_limit=1000.0 (msgs/sec)\n",
      "NotebookApp.rate_limit_window=3.0 (secs)\n",
      "\n"
     ]
    },
    {
     "name": "stdout",
     "output_type": "stream",
     "text": [
      "[================================================--] 97.0% 365.0/376.1MB downloaded"
     ]
    },
    {
     "name": "stderr",
     "output_type": "stream",
     "text": [
      "IOPub message rate exceeded.\n",
      "The notebook server will temporarily stop sending output\n",
      "to the client in order to avoid crashing it.\n",
      "To change this limit, set the config variable\n",
      "`--NotebookApp.iopub_msg_rate_limit`.\n",
      "\n",
      "Current values:\n",
      "NotebookApp.iopub_msg_rate_limit=1000.0 (msgs/sec)\n",
      "NotebookApp.rate_limit_window=3.0 (secs)\n",
      "\n"
     ]
    }
   ],
   "source": [
    "glove_model = gensim.downloader.load('glove-wiki-gigaword-300')"
   ]
  },
  {
   "cell_type": "code",
   "execution_count": 44,
   "id": "0824108d",
   "metadata": {},
   "outputs": [],
   "source": [
    "def avg_sentence_vector(words, model, num_features):\n",
    "    if isinstance(model,gensim.models.word2vec.Word2Vec):\n",
    "        word_vec_model = model.wv\n",
    "    else:\n",
    "        word_vec_model = model\n",
    "    index2word_set = word_vec_model.index_to_key \n",
    "    #function to average all words vectors in a given paragraph\n",
    "    featureVec = np.zeros((num_features,), dtype=\"float32\")\n",
    "    nwords = 0\n",
    "\n",
    "    for word in words:\n",
    "        if word in index2word_set:\n",
    "            nwords = nwords+1\n",
    "            featureVec = np.add(featureVec, word_vec_model[word])\n",
    "\n",
    "    if nwords>0:\n",
    "        featureVec = np.divide(featureVec, nwords)\n",
    "#     print(featureVec)\n",
    "    return featureVec\n",
    "def get_context_vector(context,model,vector_size=300):\n",
    "    if isinstance(model,gensim.models.word2vec.Word2Vec):\n",
    "        vocab = model.wv.key_to_index\n",
    "    else:\n",
    "        vocab = model.key_to_index\n",
    "    context_sents = sent_tokenize(context)\n",
    "    processed_context = [simple_preprocess(sent) for sent in context_sents]\n",
    "    processed_context = [[word if word in vocab else UNK for word in processed_context_sent]\\\n",
    "                         for processed_context_sent in processed_context]\n",
    "    context_vectors = [np.array(avg_sentence_vector(processed_context_sent,model,vector_size)).reshape(1,-1) for processed_context_sent in processed_context]\n",
    "    \n",
    "    return context_vectors\n",
    "    \n",
    "def get_cosine_similarity(context,context_vectors,question,model,vector_size=300):\n",
    "    context_sents = sent_tokenize(context)\n",
    "    \n",
    "    if isinstance(model,gensim.models.word2vec.Word2Vec):\n",
    "        vocab = model.wv.key_to_index\n",
    "    else:\n",
    "        vocab = model.key_to_index\n",
    "        \n",
    "    processed_question = simple_preprocess(question)\n",
    "    processed_question = [word if word in vocab else UNK for word in processed_question]\n",
    "    \n",
    "    question_vector  = np.array(avg_sentence_vector(processed_question,model,vector_size)).reshape(1,-1)\n",
    "    \n",
    "    cosine_sim_list = [cosine_similarity(context_sent_vector,question_vector) for context_sent_vector in context_vectors]\n",
    "    \n",
    "    max_cosine_sim = max(cosine_sim_list)\n",
    "    predicted_answer = context_sents[np.argmax(cosine_sim_list)]\n",
    "    return max_cosine_sim, predicted_answer"
   ]
  },
  {
   "cell_type": "code",
   "execution_count": 45,
   "id": "760a4a62",
   "metadata": {},
   "outputs": [
    {
     "data": {
      "application/vnd.jupyter.widget-view+json": {
       "model_id": "fa5d49ede2944aa6be2da769f01cd446",
       "version_major": 2,
       "version_minor": 0
      },
      "text/plain": [
       "Pandas Apply:   0%|          | 0/20302 [00:00<?, ?it/s]"
      ]
     },
     "metadata": {},
     "output_type": "display_data"
    }
   ],
   "source": [
    "val_df['context_vec'] = val_df['context'].swifter\\\n",
    ".progress_bar(enable=True, desc=None).apply(lambda x: get_context_vector(x,glove_model))"
   ]
  },
  {
   "cell_type": "code",
   "execution_count": 46,
   "id": "4698f852",
   "metadata": {},
   "outputs": [
    {
     "data": {
      "text/plain": [
       "True     14381\n",
       "False     5921\n",
       "Name: correct_prediction, dtype: int64"
      ]
     },
     "execution_count": 46,
     "metadata": {},
     "output_type": "execute_result"
    }
   ],
   "source": [
    "val_df['correct_prediction'] = val_df['answer_sentences'] == val_df['predicted_answer']\n",
    "val_df['correct_prediction'].value_counts()"
   ]
  },
  {
   "cell_type": "code",
   "execution_count": 47,
   "id": "a9648760",
   "metadata": {},
   "outputs": [
    {
     "name": "stdout",
     "output_type": "stream",
     "text": [
      "accuracy: 0.7083538567628805\n"
     ]
    }
   ],
   "source": [
    "print(f\"accuracy: {val_df[val_df['correct_prediction']].shape[0]/val_df.shape[0]}\")"
   ]
  },
  {
   "cell_type": "code",
   "execution_count": null,
   "id": "a6bad28a",
   "metadata": {},
   "outputs": [],
   "source": []
  }
 ],
 "metadata": {
  "kernelspec": {
   "display_name": "Python 3 (ipykernel)",
   "language": "python",
   "name": "python3"
  },
  "language_info": {
   "codemirror_mode": {
    "name": "ipython",
    "version": 3
   },
   "file_extension": ".py",
   "mimetype": "text/x-python",
   "name": "python",
   "nbconvert_exporter": "python",
   "pygments_lexer": "ipython3",
   "version": "3.9.12"
  },
  "vscode": {
   "interpreter": {
    "hash": "b123c492d60f30b8ffe040c514e7aa06405c8d3f25421387809de78c56dfd44f"
   }
  }
 },
 "nbformat": 4,
 "nbformat_minor": 5
}
